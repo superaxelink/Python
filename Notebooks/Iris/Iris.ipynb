{
 "cells": [
  {
   "cell_type": "markdown",
   "metadata": {},
   "source": [
    "# We import the dataset and get a glance of the data"
   ]
  },
  {
   "cell_type": "code",
   "execution_count": 1,
   "metadata": {},
   "outputs": [],
   "source": [
    "import pandas as pd\n",
    "path=\"Iris.csv\"\n",
    "Iris=pd.read_csv(path)"
   ]
  },
  {
   "cell_type": "code",
   "execution_count": 2,
   "metadata": {},
   "outputs": [],
   "source": [
    "import seaborn as sns\n",
    "import matplotlib.pyplot as plt\n",
    "import numpy as np"
   ]
  },
  {
   "cell_type": "code",
   "execution_count": 3,
   "metadata": {},
   "outputs": [
    {
     "data": {
      "text/html": [
       "<div>\n",
       "<style scoped>\n",
       "    .dataframe tbody tr th:only-of-type {\n",
       "        vertical-align: middle;\n",
       "    }\n",
       "\n",
       "    .dataframe tbody tr th {\n",
       "        vertical-align: top;\n",
       "    }\n",
       "\n",
       "    .dataframe thead th {\n",
       "        text-align: right;\n",
       "    }\n",
       "</style>\n",
       "<table border=\"1\" class=\"dataframe\">\n",
       "  <thead>\n",
       "    <tr style=\"text-align: right;\">\n",
       "      <th></th>\n",
       "      <th>Id</th>\n",
       "      <th>SepalLengthCm</th>\n",
       "      <th>SepalWidthCm</th>\n",
       "      <th>PetalLengthCm</th>\n",
       "      <th>PetalWidthCm</th>\n",
       "      <th>Species</th>\n",
       "    </tr>\n",
       "  </thead>\n",
       "  <tbody>\n",
       "    <tr>\n",
       "      <th>0</th>\n",
       "      <td>1</td>\n",
       "      <td>5.1</td>\n",
       "      <td>3.5</td>\n",
       "      <td>1.4</td>\n",
       "      <td>0.2</td>\n",
       "      <td>Iris-setosa</td>\n",
       "    </tr>\n",
       "    <tr>\n",
       "      <th>1</th>\n",
       "      <td>2</td>\n",
       "      <td>4.9</td>\n",
       "      <td>3.0</td>\n",
       "      <td>1.4</td>\n",
       "      <td>0.2</td>\n",
       "      <td>Iris-setosa</td>\n",
       "    </tr>\n",
       "    <tr>\n",
       "      <th>2</th>\n",
       "      <td>3</td>\n",
       "      <td>4.7</td>\n",
       "      <td>3.2</td>\n",
       "      <td>1.3</td>\n",
       "      <td>0.2</td>\n",
       "      <td>Iris-setosa</td>\n",
       "    </tr>\n",
       "    <tr>\n",
       "      <th>3</th>\n",
       "      <td>4</td>\n",
       "      <td>4.6</td>\n",
       "      <td>3.1</td>\n",
       "      <td>1.5</td>\n",
       "      <td>0.2</td>\n",
       "      <td>Iris-setosa</td>\n",
       "    </tr>\n",
       "    <tr>\n",
       "      <th>4</th>\n",
       "      <td>5</td>\n",
       "      <td>5.0</td>\n",
       "      <td>3.6</td>\n",
       "      <td>1.4</td>\n",
       "      <td>0.2</td>\n",
       "      <td>Iris-setosa</td>\n",
       "    </tr>\n",
       "  </tbody>\n",
       "</table>\n",
       "</div>"
      ],
      "text/plain": [
       "   Id  SepalLengthCm  SepalWidthCm  PetalLengthCm  PetalWidthCm      Species\n",
       "0   1            5.1           3.5            1.4           0.2  Iris-setosa\n",
       "1   2            4.9           3.0            1.4           0.2  Iris-setosa\n",
       "2   3            4.7           3.2            1.3           0.2  Iris-setosa\n",
       "3   4            4.6           3.1            1.5           0.2  Iris-setosa\n",
       "4   5            5.0           3.6            1.4           0.2  Iris-setosa"
      ]
     },
     "execution_count": 3,
     "metadata": {},
     "output_type": "execute_result"
    }
   ],
   "source": [
    "Iris.head()"
   ]
  },
  {
   "cell_type": "markdown",
   "metadata": {},
   "source": [
    "##### Here we can detect if there are some missing values"
   ]
  },
  {
   "cell_type": "code",
   "execution_count": 4,
   "metadata": {},
   "outputs": [
    {
     "name": "stdout",
     "output_type": "stream",
     "text": [
      "<class 'pandas.core.frame.DataFrame'>\n",
      "RangeIndex: 150 entries, 0 to 149\n",
      "Data columns (total 6 columns):\n",
      " #   Column         Non-Null Count  Dtype  \n",
      "---  ------         --------------  -----  \n",
      " 0   Id             150 non-null    int64  \n",
      " 1   SepalLengthCm  150 non-null    float64\n",
      " 2   SepalWidthCm   150 non-null    float64\n",
      " 3   PetalLengthCm  150 non-null    float64\n",
      " 4   PetalWidthCm   150 non-null    float64\n",
      " 5   Species        150 non-null    object \n",
      "dtypes: float64(4), int64(1), object(1)\n",
      "memory usage: 7.2+ KB\n"
     ]
    }
   ],
   "source": [
    "Iris.info() "
   ]
  },
  {
   "cell_type": "code",
   "execution_count": 5,
   "metadata": {},
   "outputs": [
    {
     "data": {
      "text/plain": [
       "Iris-setosa        50\n",
       "Iris-virginica     50\n",
       "Iris-versicolor    50\n",
       "Name: Species, dtype: int64"
      ]
     },
     "execution_count": 5,
     "metadata": {},
     "output_type": "execute_result"
    }
   ],
   "source": [
    "Iris[\"Species\"].value_counts()"
   ]
  },
  {
   "cell_type": "code",
   "execution_count": 6,
   "metadata": {},
   "outputs": [
    {
     "data": {
      "text/html": [
       "<div>\n",
       "<style scoped>\n",
       "    .dataframe tbody tr th:only-of-type {\n",
       "        vertical-align: middle;\n",
       "    }\n",
       "\n",
       "    .dataframe tbody tr th {\n",
       "        vertical-align: top;\n",
       "    }\n",
       "\n",
       "    .dataframe thead th {\n",
       "        text-align: right;\n",
       "    }\n",
       "</style>\n",
       "<table border=\"1\" class=\"dataframe\">\n",
       "  <thead>\n",
       "    <tr style=\"text-align: right;\">\n",
       "      <th></th>\n",
       "      <th>Id</th>\n",
       "      <th>SepalLengthCm</th>\n",
       "      <th>SepalWidthCm</th>\n",
       "      <th>PetalLengthCm</th>\n",
       "      <th>PetalWidthCm</th>\n",
       "    </tr>\n",
       "  </thead>\n",
       "  <tbody>\n",
       "    <tr>\n",
       "      <th>count</th>\n",
       "      <td>150.000000</td>\n",
       "      <td>150.000000</td>\n",
       "      <td>150.000000</td>\n",
       "      <td>150.000000</td>\n",
       "      <td>150.000000</td>\n",
       "    </tr>\n",
       "    <tr>\n",
       "      <th>mean</th>\n",
       "      <td>75.500000</td>\n",
       "      <td>5.843333</td>\n",
       "      <td>3.054000</td>\n",
       "      <td>3.758667</td>\n",
       "      <td>1.198667</td>\n",
       "    </tr>\n",
       "    <tr>\n",
       "      <th>std</th>\n",
       "      <td>43.445368</td>\n",
       "      <td>0.828066</td>\n",
       "      <td>0.433594</td>\n",
       "      <td>1.764420</td>\n",
       "      <td>0.763161</td>\n",
       "    </tr>\n",
       "    <tr>\n",
       "      <th>min</th>\n",
       "      <td>1.000000</td>\n",
       "      <td>4.300000</td>\n",
       "      <td>2.000000</td>\n",
       "      <td>1.000000</td>\n",
       "      <td>0.100000</td>\n",
       "    </tr>\n",
       "    <tr>\n",
       "      <th>25%</th>\n",
       "      <td>38.250000</td>\n",
       "      <td>5.100000</td>\n",
       "      <td>2.800000</td>\n",
       "      <td>1.600000</td>\n",
       "      <td>0.300000</td>\n",
       "    </tr>\n",
       "    <tr>\n",
       "      <th>50%</th>\n",
       "      <td>75.500000</td>\n",
       "      <td>5.800000</td>\n",
       "      <td>3.000000</td>\n",
       "      <td>4.350000</td>\n",
       "      <td>1.300000</td>\n",
       "    </tr>\n",
       "    <tr>\n",
       "      <th>75%</th>\n",
       "      <td>112.750000</td>\n",
       "      <td>6.400000</td>\n",
       "      <td>3.300000</td>\n",
       "      <td>5.100000</td>\n",
       "      <td>1.800000</td>\n",
       "    </tr>\n",
       "    <tr>\n",
       "      <th>max</th>\n",
       "      <td>150.000000</td>\n",
       "      <td>7.900000</td>\n",
       "      <td>4.400000</td>\n",
       "      <td>6.900000</td>\n",
       "      <td>2.500000</td>\n",
       "    </tr>\n",
       "  </tbody>\n",
       "</table>\n",
       "</div>"
      ],
      "text/plain": [
       "               Id  SepalLengthCm  SepalWidthCm  PetalLengthCm  PetalWidthCm\n",
       "count  150.000000     150.000000    150.000000     150.000000    150.000000\n",
       "mean    75.500000       5.843333      3.054000       3.758667      1.198667\n",
       "std     43.445368       0.828066      0.433594       1.764420      0.763161\n",
       "min      1.000000       4.300000      2.000000       1.000000      0.100000\n",
       "25%     38.250000       5.100000      2.800000       1.600000      0.300000\n",
       "50%     75.500000       5.800000      3.000000       4.350000      1.300000\n",
       "75%    112.750000       6.400000      3.300000       5.100000      1.800000\n",
       "max    150.000000       7.900000      4.400000       6.900000      2.500000"
      ]
     },
     "execution_count": 6,
     "metadata": {},
     "output_type": "execute_result"
    }
   ],
   "source": [
    "Iris.describe()"
   ]
  },
  {
   "cell_type": "markdown",
   "metadata": {},
   "source": [
    "# Data visualization"
   ]
  },
  {
   "cell_type": "code",
   "execution_count": 7,
   "metadata": {},
   "outputs": [
    {
     "data": {
      "image/png": "[encoded data removed]",
      "text/plain": [
       "<Figure size 823.25x720 with 20 Axes>"
      ]
     },
     "metadata": {
      "needs_background": "light"
     },
     "output_type": "display_data"
    }
   ],
   "source": [
    "snsdata = Iris.drop(['Id'],axis=1)\n",
    "g=sns.pairplot(snsdata,hue='Species',markers='x')\n",
    "g=g.map_upper(plt.scatter)\n",
    "g=g.map_lower(sns.kdeplot)"
   ]
  },
  {
   "cell_type": "code",
   "execution_count": 8,
   "metadata": {},
   "outputs": [
    {
     "data": {
      "image/png": "[encoded data removed]",
      "text/plain": [
       "<Figure size 432x288 with 1 Axes>"
      ]
     },
     "metadata": {
      "needs_background": "light"
     },
     "output_type": "display_data"
    },
    {
     "data": {
      "image/png": "[encoded data removed]",
      "text/plain": [
       "<Figure size 432x288 with 1 Axes>"
      ]
     },
     "metadata": {
      "needs_background": "light"
     },
     "output_type": "display_data"
    },
    {
     "data": {
      "image/png": "[encoded data removed]",
      "text/plain": [
       "<Figure size 432x288 with 1 Axes>"
      ]
     },
     "metadata": {
      "needs_background": "light"
     },
     "output_type": "display_data"
    },
    {
     "data": {
      "image/png": "[encoded data removed]",
      "text/plain": [
       "<Figure size 432x288 with 1 Axes>"
      ]
     },
     "metadata": {
      "needs_background": "light"
     },
     "output_type": "display_data"
    }
   ],
   "source": [
    "sns.violinplot(x='SepalLengthCm', y='Species', data=Iris, inner='stick', palette='autumn')\n",
    "plt.show()\n",
    "sns.violinplot(x='SepalWidthCm', y='Species', data=Iris, inner='stick', palette='autumn')\n",
    "plt.show()\n",
    "sns.violinplot(x='PetalLengthCm', y='Species', data=Iris, inner='stick', palette='autumn')\n",
    "plt.show()\n",
    "sns.violinplot(x='PetalWidthCm', y='Species', data=Iris, inner='stick', palette='autumn')\n",
    "plt.show()"
   ]
  },
  {
   "cell_type": "markdown",
   "metadata": {},
   "source": [
    "# We do ordinal encoding and linear regressión for the raw model to understand how to process the data"
   ]
  },
  {
   "cell_type": "code",
   "execution_count": 9,
   "metadata": {},
   "outputs": [
    {
     "name": "stdout",
     "output_type": "stream",
     "text": [
      "Rows : 150, column: 6\n"
     ]
    }
   ],
   "source": [
    "rows, col = Iris.shape\n",
    "print(\"Rows : %s, column: %s\" % (rows, col))"
   ]
  },
  {
   "cell_type": "code",
   "execution_count": 10,
   "metadata": {},
   "outputs": [],
   "source": [
    "mapping = {\n",
    "    'Iris-setosa' : 1,\n",
    "    'Iris-versicolor' : 2,\n",
    "    'Iris-virginica' : 3\n",
    "}\n",
    "\n",
    "X = Iris.drop(['Id', 'Species'], axis=1).values # Input Feature Values\n",
    "y = Iris.Species.replace(mapping).values.reshape(rows,1) # Output values\n",
    "\n",
    "X = np.hstack(((np.ones((rows,1))), X))# Adding one more column for bias"
   ]
  },
  {
   "cell_type": "code",
   "execution_count": 11,
   "metadata": {},
   "outputs": [
    {
     "name": "stdout",
     "output_type": "stream",
     "text": [
      "Theta : [[1.76405235 0.40015721 0.97873798 2.2408932  1.86755799]]\n"
     ]
    }
   ],
   "source": [
    "np.random.seed(0) # Let's set the zero for time being\n",
    "theta = np.random.randn(1,5) # Setting values of theta randomly\n",
    "\n",
    "print(\"Theta : %s\" % (theta))"
   ]
  },
  {
   "cell_type": "code",
   "execution_count": 12,
   "metadata": {},
   "outputs": [],
   "source": [
    "iteration = 10000\n",
    "learning_rate = 0.003 # If you are going by formula, this is actually alpha.\n",
    "J = np.zeros(iteration) # 1 x 10000 maxtix"
   ]
  },
  {
   "cell_type": "code",
   "execution_count": 13,
   "metadata": {},
   "outputs": [
    {
     "data": {
      "image/png": "[encoded data removed]",
      "text/plain": [
       "<Figure size 432x288 with 1 Axes>"
      ]
     },
     "metadata": {
      "needs_background": "light"
     },
     "output_type": "display_data"
    }
   ],
   "source": [
    "# Let's train our model to compute values of theta without scikitlearn methods\n",
    "for i in range(iteration):\n",
    "    J[i] = (1/(2 * rows) * np.sum((np.dot(X, theta.T) - y) ** 2 ))\n",
    "    theta -= ((learning_rate/rows) * np.dot((np.dot(X, theta.T) - y).reshape(1,rows), X))\n",
    "\n",
    "prediction = np.round(np.dot(X, theta.T))\n",
    "\n",
    "ax = plt.subplot(111)\n",
    "ax.plot(np.arange(iteration), J)\n",
    "ax.set_ylim([0,0.15])\n",
    "plt.ylabel(\"Cost Values\", color=\"Green\")\n",
    "plt.xlabel(\"No. of Iterations\", color=\"Green\")\n",
    "plt.title(\"Mean Squared Error vs Iterations\")\n",
    "plt.show()"
   ]
  },
  {
   "cell_type": "code",
   "execution_count": 14,
   "metadata": {},
   "outputs": [
    {
     "data": {
      "image/png": "[encoded data removed]",
      "text/plain": [
       "<Figure size 432x288 with 1 Axes>"
      ]
     },
     "metadata": {
      "needs_background": "light"
     },
     "output_type": "display_data"
    }
   ],
   "source": [
    "ax = sns.lineplot(x=np.arange(iteration), y=J)\n",
    "plt.show()"
   ]
  },
  {
   "cell_type": "code",
   "execution_count": 15,
   "metadata": {},
   "outputs": [
    {
     "data": {
      "image/png": "[encoded data removed]",
      "text/plain": [
       "<Figure size 432x288 with 1 Axes>"
      ]
     },
     "metadata": {
      "needs_background": "light"
     },
     "output_type": "display_data"
    }
   ],
   "source": [
    "ax = plt.subplot(111)\n",
    "\n",
    "ax.plot(np.arange(1, 151, 1), y, label='Orignal value', color='red')\n",
    "ax.scatter(np.arange(1, 151, 1), prediction, label='Predicted Value')\n",
    "\n",
    "plt.xlabel(\"Dataset size\", color=\"Green\")\n",
    "plt.ylabel(\"Iris Flower (1-3)\", color=\"Green\")\n",
    "plt.title(\"Iris Flower (Iris-setosa = 1, Iris-versicolor = 2, Iris-virginica = 3)\")\n",
    "\n",
    "ax.legend()\n",
    "plt.show()"
   ]
  },
  {
   "cell_type": "code",
   "execution_count": 16,
   "metadata": {},
   "outputs": [
    {
     "name": "stdout",
     "output_type": "stream",
     "text": [
      "The model predicted values of Iris dataset with an overall accuracy of 96.0\n"
     ]
    }
   ],
   "source": [
    "accuracy = (sum(prediction == y)/float(len(y)) * 100)[0]\n",
    "print(\"The model predicted values of Iris dataset with an overall accuracy of %s\" % (accuracy))"
   ]
  },
  {
   "cell_type": "markdown",
   "metadata": {},
   "source": [
    "# So now we can continue working our model by doing an stratified split instead on the ordinal encoded set"
   ]
  },
  {
   "cell_type": "code",
   "execution_count": 17,
   "metadata": {},
   "outputs": [
    {
     "data": {
      "text/html": [
       "<div>\n",
       "<style scoped>\n",
       "    .dataframe tbody tr th:only-of-type {\n",
       "        vertical-align: middle;\n",
       "    }\n",
       "\n",
       "    .dataframe tbody tr th {\n",
       "        vertical-align: top;\n",
       "    }\n",
       "\n",
       "    .dataframe thead th {\n",
       "        text-align: right;\n",
       "    }\n",
       "</style>\n",
       "<table border=\"1\" class=\"dataframe\">\n",
       "  <thead>\n",
       "    <tr style=\"text-align: right;\">\n",
       "      <th></th>\n",
       "      <th>Species</th>\n",
       "    </tr>\n",
       "  </thead>\n",
       "  <tbody>\n",
       "    <tr>\n",
       "      <th>0</th>\n",
       "      <td>Iris-setosa</td>\n",
       "    </tr>\n",
       "    <tr>\n",
       "      <th>1</th>\n",
       "      <td>Iris-setosa</td>\n",
       "    </tr>\n",
       "    <tr>\n",
       "      <th>2</th>\n",
       "      <td>Iris-setosa</td>\n",
       "    </tr>\n",
       "    <tr>\n",
       "      <th>3</th>\n",
       "      <td>Iris-setosa</td>\n",
       "    </tr>\n",
       "    <tr>\n",
       "      <th>4</th>\n",
       "      <td>Iris-setosa</td>\n",
       "    </tr>\n",
       "  </tbody>\n",
       "</table>\n",
       "</div>"
      ],
      "text/plain": [
       "       Species\n",
       "0  Iris-setosa\n",
       "1  Iris-setosa\n",
       "2  Iris-setosa\n",
       "3  Iris-setosa\n",
       "4  Iris-setosa"
      ]
     },
     "execution_count": 17,
     "metadata": {},
     "output_type": "execute_result"
    }
   ],
   "source": [
    "Iris_cat = Iris[[\"Species\"]]\n",
    "Iris_cat.head() #Types of species"
   ]
  },
  {
   "cell_type": "code",
   "execution_count": 18,
   "metadata": {},
   "outputs": [],
   "source": [
    "from sklearn.model_selection import StratifiedShuffleSplit\n",
    "split = StratifiedShuffleSplit(n_splits=1,test_size=0.2,random_state=42)\n",
    "for train_index, test_index in split.split(Iris,Iris['Species']):\n",
    "    strat_train_set = Iris.loc[train_index]\n",
    "    strat_test_set = Iris.loc[test_index] #para que o como estratificariamos?"
   ]
  },
  {
   "cell_type": "code",
   "execution_count": 19,
   "metadata": {},
   "outputs": [
    {
     "data": {
      "text/html": [
       "<div>\n",
       "<style scoped>\n",
       "    .dataframe tbody tr th:only-of-type {\n",
       "        vertical-align: middle;\n",
       "    }\n",
       "\n",
       "    .dataframe tbody tr th {\n",
       "        vertical-align: top;\n",
       "    }\n",
       "\n",
       "    .dataframe thead th {\n",
       "        text-align: right;\n",
       "    }\n",
       "</style>\n",
       "<table border=\"1\" class=\"dataframe\">\n",
       "  <thead>\n",
       "    <tr style=\"text-align: right;\">\n",
       "      <th></th>\n",
       "      <th>Id</th>\n",
       "      <th>SepalLengthCm</th>\n",
       "      <th>SepalWidthCm</th>\n",
       "      <th>PetalLengthCm</th>\n",
       "      <th>PetalWidthCm</th>\n",
       "      <th>Species</th>\n",
       "    </tr>\n",
       "  </thead>\n",
       "  <tbody>\n",
       "    <tr>\n",
       "      <th>8</th>\n",
       "      <td>9</td>\n",
       "      <td>4.4</td>\n",
       "      <td>2.9</td>\n",
       "      <td>1.4</td>\n",
       "      <td>0.2</td>\n",
       "      <td>Iris-setosa</td>\n",
       "    </tr>\n",
       "    <tr>\n",
       "      <th>106</th>\n",
       "      <td>107</td>\n",
       "      <td>4.9</td>\n",
       "      <td>2.5</td>\n",
       "      <td>4.5</td>\n",
       "      <td>1.7</td>\n",
       "      <td>Iris-virginica</td>\n",
       "    </tr>\n",
       "    <tr>\n",
       "      <th>76</th>\n",
       "      <td>77</td>\n",
       "      <td>6.8</td>\n",
       "      <td>2.8</td>\n",
       "      <td>4.8</td>\n",
       "      <td>1.4</td>\n",
       "      <td>Iris-versicolor</td>\n",
       "    </tr>\n",
       "    <tr>\n",
       "      <th>9</th>\n",
       "      <td>10</td>\n",
       "      <td>4.9</td>\n",
       "      <td>3.1</td>\n",
       "      <td>1.5</td>\n",
       "      <td>0.1</td>\n",
       "      <td>Iris-setosa</td>\n",
       "    </tr>\n",
       "    <tr>\n",
       "      <th>89</th>\n",
       "      <td>90</td>\n",
       "      <td>5.5</td>\n",
       "      <td>2.5</td>\n",
       "      <td>4.0</td>\n",
       "      <td>1.3</td>\n",
       "      <td>Iris-versicolor</td>\n",
       "    </tr>\n",
       "    <tr>\n",
       "      <th>...</th>\n",
       "      <td>...</td>\n",
       "      <td>...</td>\n",
       "      <td>...</td>\n",
       "      <td>...</td>\n",
       "      <td>...</td>\n",
       "      <td>...</td>\n",
       "    </tr>\n",
       "    <tr>\n",
       "      <th>37</th>\n",
       "      <td>38</td>\n",
       "      <td>4.9</td>\n",
       "      <td>3.1</td>\n",
       "      <td>1.5</td>\n",
       "      <td>0.1</td>\n",
       "      <td>Iris-setosa</td>\n",
       "    </tr>\n",
       "    <tr>\n",
       "      <th>2</th>\n",
       "      <td>3</td>\n",
       "      <td>4.7</td>\n",
       "      <td>3.2</td>\n",
       "      <td>1.3</td>\n",
       "      <td>0.2</td>\n",
       "      <td>Iris-setosa</td>\n",
       "    </tr>\n",
       "    <tr>\n",
       "      <th>33</th>\n",
       "      <td>34</td>\n",
       "      <td>5.5</td>\n",
       "      <td>4.2</td>\n",
       "      <td>1.4</td>\n",
       "      <td>0.2</td>\n",
       "      <td>Iris-setosa</td>\n",
       "    </tr>\n",
       "    <tr>\n",
       "      <th>52</th>\n",
       "      <td>53</td>\n",
       "      <td>6.9</td>\n",
       "      <td>3.1</td>\n",
       "      <td>4.9</td>\n",
       "      <td>1.5</td>\n",
       "      <td>Iris-versicolor</td>\n",
       "    </tr>\n",
       "    <tr>\n",
       "      <th>3</th>\n",
       "      <td>4</td>\n",
       "      <td>4.6</td>\n",
       "      <td>3.1</td>\n",
       "      <td>1.5</td>\n",
       "      <td>0.2</td>\n",
       "      <td>Iris-setosa</td>\n",
       "    </tr>\n",
       "  </tbody>\n",
       "</table>\n",
       "<p>120 rows × 6 columns</p>\n",
       "</div>"
      ],
      "text/plain": [
       "      Id  SepalLengthCm  SepalWidthCm  PetalLengthCm  PetalWidthCm  \\\n",
       "8      9            4.4           2.9            1.4           0.2   \n",
       "106  107            4.9           2.5            4.5           1.7   \n",
       "76    77            6.8           2.8            4.8           1.4   \n",
       "9     10            4.9           3.1            1.5           0.1   \n",
       "89    90            5.5           2.5            4.0           1.3   \n",
       "..   ...            ...           ...            ...           ...   \n",
       "37    38            4.9           3.1            1.5           0.1   \n",
       "2      3            4.7           3.2            1.3           0.2   \n",
       "33    34            5.5           4.2            1.4           0.2   \n",
       "52    53            6.9           3.1            4.9           1.5   \n",
       "3      4            4.6           3.1            1.5           0.2   \n",
       "\n",
       "             Species  \n",
       "8        Iris-setosa  \n",
       "106   Iris-virginica  \n",
       "76   Iris-versicolor  \n",
       "9        Iris-setosa  \n",
       "89   Iris-versicolor  \n",
       "..               ...  \n",
       "37       Iris-setosa  \n",
       "2        Iris-setosa  \n",
       "33       Iris-setosa  \n",
       "52   Iris-versicolor  \n",
       "3        Iris-setosa  \n",
       "\n",
       "[120 rows x 6 columns]"
      ]
     },
     "execution_count": 19,
     "metadata": {},
     "output_type": "execute_result"
    }
   ],
   "source": [
    "strat_train_set"
   ]
  },
  {
   "cell_type": "code",
   "execution_count": 20,
   "metadata": {},
   "outputs": [
    {
     "data": {
      "text/html": [
       "<div>\n",
       "<style scoped>\n",
       "    .dataframe tbody tr th:only-of-type {\n",
       "        vertical-align: middle;\n",
       "    }\n",
       "\n",
       "    .dataframe tbody tr th {\n",
       "        vertical-align: top;\n",
       "    }\n",
       "\n",
       "    .dataframe thead th {\n",
       "        text-align: right;\n",
       "    }\n",
       "</style>\n",
       "<table border=\"1\" class=\"dataframe\">\n",
       "  <thead>\n",
       "    <tr style=\"text-align: right;\">\n",
       "      <th></th>\n",
       "      <th>Id</th>\n",
       "      <th>SepalLengthCm</th>\n",
       "      <th>SepalWidthCm</th>\n",
       "      <th>PetalLengthCm</th>\n",
       "      <th>PetalWidthCm</th>\n",
       "      <th>Species</th>\n",
       "    </tr>\n",
       "  </thead>\n",
       "  <tbody>\n",
       "    <tr>\n",
       "      <th>38</th>\n",
       "      <td>39</td>\n",
       "      <td>4.4</td>\n",
       "      <td>3.0</td>\n",
       "      <td>1.3</td>\n",
       "      <td>0.2</td>\n",
       "      <td>Iris-setosa</td>\n",
       "    </tr>\n",
       "    <tr>\n",
       "      <th>127</th>\n",
       "      <td>128</td>\n",
       "      <td>6.1</td>\n",
       "      <td>3.0</td>\n",
       "      <td>4.9</td>\n",
       "      <td>1.8</td>\n",
       "      <td>Iris-virginica</td>\n",
       "    </tr>\n",
       "    <tr>\n",
       "      <th>57</th>\n",
       "      <td>58</td>\n",
       "      <td>4.9</td>\n",
       "      <td>2.4</td>\n",
       "      <td>3.3</td>\n",
       "      <td>1.0</td>\n",
       "      <td>Iris-versicolor</td>\n",
       "    </tr>\n",
       "    <tr>\n",
       "      <th>93</th>\n",
       "      <td>94</td>\n",
       "      <td>5.0</td>\n",
       "      <td>2.3</td>\n",
       "      <td>3.3</td>\n",
       "      <td>1.0</td>\n",
       "      <td>Iris-versicolor</td>\n",
       "    </tr>\n",
       "    <tr>\n",
       "      <th>42</th>\n",
       "      <td>43</td>\n",
       "      <td>4.4</td>\n",
       "      <td>3.2</td>\n",
       "      <td>1.3</td>\n",
       "      <td>0.2</td>\n",
       "      <td>Iris-setosa</td>\n",
       "    </tr>\n",
       "    <tr>\n",
       "      <th>56</th>\n",
       "      <td>57</td>\n",
       "      <td>6.3</td>\n",
       "      <td>3.3</td>\n",
       "      <td>4.7</td>\n",
       "      <td>1.6</td>\n",
       "      <td>Iris-versicolor</td>\n",
       "    </tr>\n",
       "    <tr>\n",
       "      <th>22</th>\n",
       "      <td>23</td>\n",
       "      <td>4.6</td>\n",
       "      <td>3.6</td>\n",
       "      <td>1.0</td>\n",
       "      <td>0.2</td>\n",
       "      <td>Iris-setosa</td>\n",
       "    </tr>\n",
       "    <tr>\n",
       "      <th>20</th>\n",
       "      <td>21</td>\n",
       "      <td>5.4</td>\n",
       "      <td>3.4</td>\n",
       "      <td>1.7</td>\n",
       "      <td>0.2</td>\n",
       "      <td>Iris-setosa</td>\n",
       "    </tr>\n",
       "    <tr>\n",
       "      <th>147</th>\n",
       "      <td>148</td>\n",
       "      <td>6.5</td>\n",
       "      <td>3.0</td>\n",
       "      <td>5.2</td>\n",
       "      <td>2.0</td>\n",
       "      <td>Iris-virginica</td>\n",
       "    </tr>\n",
       "    <tr>\n",
       "      <th>84</th>\n",
       "      <td>85</td>\n",
       "      <td>5.4</td>\n",
       "      <td>3.0</td>\n",
       "      <td>4.5</td>\n",
       "      <td>1.5</td>\n",
       "      <td>Iris-versicolor</td>\n",
       "    </tr>\n",
       "    <tr>\n",
       "      <th>107</th>\n",
       "      <td>108</td>\n",
       "      <td>7.3</td>\n",
       "      <td>2.9</td>\n",
       "      <td>6.3</td>\n",
       "      <td>1.8</td>\n",
       "      <td>Iris-virginica</td>\n",
       "    </tr>\n",
       "    <tr>\n",
       "      <th>141</th>\n",
       "      <td>142</td>\n",
       "      <td>6.9</td>\n",
       "      <td>3.1</td>\n",
       "      <td>5.1</td>\n",
       "      <td>2.3</td>\n",
       "      <td>Iris-virginica</td>\n",
       "    </tr>\n",
       "    <tr>\n",
       "      <th>104</th>\n",
       "      <td>105</td>\n",
       "      <td>6.5</td>\n",
       "      <td>3.0</td>\n",
       "      <td>5.8</td>\n",
       "      <td>2.2</td>\n",
       "      <td>Iris-virginica</td>\n",
       "    </tr>\n",
       "    <tr>\n",
       "      <th>51</th>\n",
       "      <td>52</td>\n",
       "      <td>6.4</td>\n",
       "      <td>3.2</td>\n",
       "      <td>4.5</td>\n",
       "      <td>1.5</td>\n",
       "      <td>Iris-versicolor</td>\n",
       "    </tr>\n",
       "    <tr>\n",
       "      <th>7</th>\n",
       "      <td>8</td>\n",
       "      <td>5.0</td>\n",
       "      <td>3.4</td>\n",
       "      <td>1.5</td>\n",
       "      <td>0.2</td>\n",
       "      <td>Iris-setosa</td>\n",
       "    </tr>\n",
       "    <tr>\n",
       "      <th>49</th>\n",
       "      <td>50</td>\n",
       "      <td>5.0</td>\n",
       "      <td>3.3</td>\n",
       "      <td>1.4</td>\n",
       "      <td>0.2</td>\n",
       "      <td>Iris-setosa</td>\n",
       "    </tr>\n",
       "    <tr>\n",
       "      <th>14</th>\n",
       "      <td>15</td>\n",
       "      <td>5.8</td>\n",
       "      <td>4.0</td>\n",
       "      <td>1.2</td>\n",
       "      <td>0.2</td>\n",
       "      <td>Iris-setosa</td>\n",
       "    </tr>\n",
       "    <tr>\n",
       "      <th>69</th>\n",
       "      <td>70</td>\n",
       "      <td>5.6</td>\n",
       "      <td>2.5</td>\n",
       "      <td>3.9</td>\n",
       "      <td>1.1</td>\n",
       "      <td>Iris-versicolor</td>\n",
       "    </tr>\n",
       "    <tr>\n",
       "      <th>63</th>\n",
       "      <td>64</td>\n",
       "      <td>6.1</td>\n",
       "      <td>2.9</td>\n",
       "      <td>4.7</td>\n",
       "      <td>1.4</td>\n",
       "      <td>Iris-versicolor</td>\n",
       "    </tr>\n",
       "    <tr>\n",
       "      <th>138</th>\n",
       "      <td>139</td>\n",
       "      <td>6.0</td>\n",
       "      <td>3.0</td>\n",
       "      <td>4.8</td>\n",
       "      <td>1.8</td>\n",
       "      <td>Iris-virginica</td>\n",
       "    </tr>\n",
       "    <tr>\n",
       "      <th>10</th>\n",
       "      <td>11</td>\n",
       "      <td>5.4</td>\n",
       "      <td>3.7</td>\n",
       "      <td>1.5</td>\n",
       "      <td>0.2</td>\n",
       "      <td>Iris-setosa</td>\n",
       "    </tr>\n",
       "    <tr>\n",
       "      <th>140</th>\n",
       "      <td>141</td>\n",
       "      <td>6.7</td>\n",
       "      <td>3.1</td>\n",
       "      <td>5.6</td>\n",
       "      <td>2.4</td>\n",
       "      <td>Iris-virginica</td>\n",
       "    </tr>\n",
       "    <tr>\n",
       "      <th>58</th>\n",
       "      <td>59</td>\n",
       "      <td>6.6</td>\n",
       "      <td>2.9</td>\n",
       "      <td>4.6</td>\n",
       "      <td>1.3</td>\n",
       "      <td>Iris-versicolor</td>\n",
       "    </tr>\n",
       "    <tr>\n",
       "      <th>134</th>\n",
       "      <td>135</td>\n",
       "      <td>6.1</td>\n",
       "      <td>2.6</td>\n",
       "      <td>5.6</td>\n",
       "      <td>1.4</td>\n",
       "      <td>Iris-virginica</td>\n",
       "    </tr>\n",
       "    <tr>\n",
       "      <th>132</th>\n",
       "      <td>133</td>\n",
       "      <td>6.4</td>\n",
       "      <td>2.8</td>\n",
       "      <td>5.6</td>\n",
       "      <td>2.2</td>\n",
       "      <td>Iris-virginica</td>\n",
       "    </tr>\n",
       "    <tr>\n",
       "      <th>77</th>\n",
       "      <td>78</td>\n",
       "      <td>6.7</td>\n",
       "      <td>3.0</td>\n",
       "      <td>5.0</td>\n",
       "      <td>1.7</td>\n",
       "      <td>Iris-versicolor</td>\n",
       "    </tr>\n",
       "    <tr>\n",
       "      <th>75</th>\n",
       "      <td>76</td>\n",
       "      <td>6.6</td>\n",
       "      <td>3.0</td>\n",
       "      <td>4.4</td>\n",
       "      <td>1.4</td>\n",
       "      <td>Iris-versicolor</td>\n",
       "    </tr>\n",
       "    <tr>\n",
       "      <th>18</th>\n",
       "      <td>19</td>\n",
       "      <td>5.7</td>\n",
       "      <td>3.8</td>\n",
       "      <td>1.7</td>\n",
       "      <td>0.3</td>\n",
       "      <td>Iris-setosa</td>\n",
       "    </tr>\n",
       "    <tr>\n",
       "      <th>116</th>\n",
       "      <td>117</td>\n",
       "      <td>6.5</td>\n",
       "      <td>3.0</td>\n",
       "      <td>5.5</td>\n",
       "      <td>1.8</td>\n",
       "      <td>Iris-virginica</td>\n",
       "    </tr>\n",
       "    <tr>\n",
       "      <th>28</th>\n",
       "      <td>29</td>\n",
       "      <td>5.2</td>\n",
       "      <td>3.4</td>\n",
       "      <td>1.4</td>\n",
       "      <td>0.2</td>\n",
       "      <td>Iris-setosa</td>\n",
       "    </tr>\n",
       "  </tbody>\n",
       "</table>\n",
       "</div>"
      ],
      "text/plain": [
       "      Id  SepalLengthCm  SepalWidthCm  PetalLengthCm  PetalWidthCm  \\\n",
       "38    39            4.4           3.0            1.3           0.2   \n",
       "127  128            6.1           3.0            4.9           1.8   \n",
       "57    58            4.9           2.4            3.3           1.0   \n",
       "93    94            5.0           2.3            3.3           1.0   \n",
       "42    43            4.4           3.2            1.3           0.2   \n",
       "56    57            6.3           3.3            4.7           1.6   \n",
       "22    23            4.6           3.6            1.0           0.2   \n",
       "20    21            5.4           3.4            1.7           0.2   \n",
       "147  148            6.5           3.0            5.2           2.0   \n",
       "84    85            5.4           3.0            4.5           1.5   \n",
       "107  108            7.3           2.9            6.3           1.8   \n",
       "141  142            6.9           3.1            5.1           2.3   \n",
       "104  105            6.5           3.0            5.8           2.2   \n",
       "51    52            6.4           3.2            4.5           1.5   \n",
       "7      8            5.0           3.4            1.5           0.2   \n",
       "49    50            5.0           3.3            1.4           0.2   \n",
       "14    15            5.8           4.0            1.2           0.2   \n",
       "69    70            5.6           2.5            3.9           1.1   \n",
       "63    64            6.1           2.9            4.7           1.4   \n",
       "138  139            6.0           3.0            4.8           1.8   \n",
       "10    11            5.4           3.7            1.5           0.2   \n",
       "140  141            6.7           3.1            5.6           2.4   \n",
       "58    59            6.6           2.9            4.6           1.3   \n",
       "134  135            6.1           2.6            5.6           1.4   \n",
       "132  133            6.4           2.8            5.6           2.2   \n",
       "77    78            6.7           3.0            5.0           1.7   \n",
       "75    76            6.6           3.0            4.4           1.4   \n",
       "18    19            5.7           3.8            1.7           0.3   \n",
       "116  117            6.5           3.0            5.5           1.8   \n",
       "28    29            5.2           3.4            1.4           0.2   \n",
       "\n",
       "             Species  \n",
       "38       Iris-setosa  \n",
       "127   Iris-virginica  \n",
       "57   Iris-versicolor  \n",
       "93   Iris-versicolor  \n",
       "42       Iris-setosa  \n",
       "56   Iris-versicolor  \n",
       "22       Iris-setosa  \n",
       "20       Iris-setosa  \n",
       "147   Iris-virginica  \n",
       "84   Iris-versicolor  \n",
       "107   Iris-virginica  \n",
       "141   Iris-virginica  \n",
       "104   Iris-virginica  \n",
       "51   Iris-versicolor  \n",
       "7        Iris-setosa  \n",
       "49       Iris-setosa  \n",
       "14       Iris-setosa  \n",
       "69   Iris-versicolor  \n",
       "63   Iris-versicolor  \n",
       "138   Iris-virginica  \n",
       "10       Iris-setosa  \n",
       "140   Iris-virginica  \n",
       "58   Iris-versicolor  \n",
       "134   Iris-virginica  \n",
       "132   Iris-virginica  \n",
       "77   Iris-versicolor  \n",
       "75   Iris-versicolor  \n",
       "18       Iris-setosa  \n",
       "116   Iris-virginica  \n",
       "28       Iris-setosa  "
      ]
     },
     "execution_count": 20,
     "metadata": {},
     "output_type": "execute_result"
    }
   ],
   "source": [
    "strat_test_set"
   ]
  },
  {
   "cell_type": "markdown",
   "metadata": {},
   "source": [
    "## And to check that the data is indeed stratified"
   ]
  },
  {
   "cell_type": "code",
   "execution_count": 21,
   "metadata": {},
   "outputs": [
    {
     "data": {
      "text/plain": [
       "Iris-setosa        0.333333\n",
       "Iris-virginica     0.333333\n",
       "Iris-versicolor    0.333333\n",
       "Name: Species, dtype: float64"
      ]
     },
     "execution_count": 21,
     "metadata": {},
     "output_type": "execute_result"
    }
   ],
   "source": [
    "strat_train_set['Species'].value_counts()/len(strat_train_set)"
   ]
  },
  {
   "cell_type": "code",
   "execution_count": 22,
   "metadata": {},
   "outputs": [
    {
     "data": {
      "text/plain": [
       "Iris-setosa        0.333333\n",
       "Iris-versicolor    0.333333\n",
       "Iris-virginica     0.333333\n",
       "Name: Species, dtype: float64"
      ]
     },
     "execution_count": 22,
     "metadata": {},
     "output_type": "execute_result"
    }
   ],
   "source": [
    "strat_test_set['Species'].value_counts()/len(strat_test_set)"
   ]
  },
  {
   "cell_type": "markdown",
   "metadata": {},
   "source": [
    "# Prepare our data for Machine Learning Attributes"
   ]
  },
  {
   "cell_type": "markdown",
   "metadata": {},
   "source": [
    "## Data cleaning"
   ]
  },
  {
   "cell_type": "markdown",
   "metadata": {},
   "source": [
    "### First we choose the target column and the features to make the prediction"
   ]
  },
  {
   "cell_type": "code",
   "execution_count": 23,
   "metadata": {},
   "outputs": [],
   "source": [
    "iris_strat = strat_train_set.drop([\"Species\"],axis=1) \n",
    "iris_labels = strat_train_set[[\"Species\"]].copy()"
   ]
  },
  {
   "cell_type": "code",
   "execution_count": 24,
   "metadata": {},
   "outputs": [
    {
     "data": {
      "text/html": [
       "<div>\n",
       "<style scoped>\n",
       "    .dataframe tbody tr th:only-of-type {\n",
       "        vertical-align: middle;\n",
       "    }\n",
       "\n",
       "    .dataframe tbody tr th {\n",
       "        vertical-align: top;\n",
       "    }\n",
       "\n",
       "    .dataframe thead th {\n",
       "        text-align: right;\n",
       "    }\n",
       "</style>\n",
       "<table border=\"1\" class=\"dataframe\">\n",
       "  <thead>\n",
       "    <tr style=\"text-align: right;\">\n",
       "      <th></th>\n",
       "      <th>Species</th>\n",
       "    </tr>\n",
       "  </thead>\n",
       "  <tbody>\n",
       "    <tr>\n",
       "      <th>8</th>\n",
       "      <td>Iris-setosa</td>\n",
       "    </tr>\n",
       "    <tr>\n",
       "      <th>106</th>\n",
       "      <td>Iris-virginica</td>\n",
       "    </tr>\n",
       "    <tr>\n",
       "      <th>76</th>\n",
       "      <td>Iris-versicolor</td>\n",
       "    </tr>\n",
       "    <tr>\n",
       "      <th>9</th>\n",
       "      <td>Iris-setosa</td>\n",
       "    </tr>\n",
       "    <tr>\n",
       "      <th>89</th>\n",
       "      <td>Iris-versicolor</td>\n",
       "    </tr>\n",
       "    <tr>\n",
       "      <th>...</th>\n",
       "      <td>...</td>\n",
       "    </tr>\n",
       "    <tr>\n",
       "      <th>37</th>\n",
       "      <td>Iris-setosa</td>\n",
       "    </tr>\n",
       "    <tr>\n",
       "      <th>2</th>\n",
       "      <td>Iris-setosa</td>\n",
       "    </tr>\n",
       "    <tr>\n",
       "      <th>33</th>\n",
       "      <td>Iris-setosa</td>\n",
       "    </tr>\n",
       "    <tr>\n",
       "      <th>52</th>\n",
       "      <td>Iris-versicolor</td>\n",
       "    </tr>\n",
       "    <tr>\n",
       "      <th>3</th>\n",
       "      <td>Iris-setosa</td>\n",
       "    </tr>\n",
       "  </tbody>\n",
       "</table>\n",
       "<p>120 rows × 1 columns</p>\n",
       "</div>"
      ],
      "text/plain": [
       "             Species\n",
       "8        Iris-setosa\n",
       "106   Iris-virginica\n",
       "76   Iris-versicolor\n",
       "9        Iris-setosa\n",
       "89   Iris-versicolor\n",
       "..               ...\n",
       "37       Iris-setosa\n",
       "2        Iris-setosa\n",
       "33       Iris-setosa\n",
       "52   Iris-versicolor\n",
       "3        Iris-setosa\n",
       "\n",
       "[120 rows x 1 columns]"
      ]
     },
     "execution_count": 24,
     "metadata": {},
     "output_type": "execute_result"
    }
   ],
   "source": [
    "iris_labels"
   ]
  },
  {
   "cell_type": "markdown",
   "metadata": {},
   "source": [
    "### Handle text and categorical attributes(We can do now Ordinal encoding and later One hot encoding)"
   ]
  },
  {
   "cell_type": "markdown",
   "metadata": {},
   "source": [
    "#### Ordinal encoding on our data"
   ]
  },
  {
   "cell_type": "code",
   "execution_count": 25,
   "metadata": {},
   "outputs": [
    {
     "data": {
      "text/plain": [
       "array([[0.],\n",
       "       [2.],\n",
       "       [1.],\n",
       "       [0.],\n",
       "       [1.],\n",
       "       [2.],\n",
       "       [1.],\n",
       "       [2.],\n",
       "       [2.],\n",
       "       [2.]])"
      ]
     },
     "execution_count": 25,
     "metadata": {},
     "output_type": "execute_result"
    }
   ],
   "source": [
    "#FIRST PART OF PIPELINE\n",
    "from sklearn.preprocessing import OrdinalEncoder #encoding the column\n",
    "oe = OrdinalEncoder()\n",
    "iris_labels_oe = oe.fit_transform(iris_labels)\n",
    "iris_labels_oe[:10]"
   ]
  },
  {
   "cell_type": "code",
   "execution_count": 26,
   "metadata": {},
   "outputs": [
    {
     "data": {
      "text/plain": [
       "[array(['Iris-setosa', 'Iris-versicolor', 'Iris-virginica'], dtype=object)]"
      ]
     },
     "execution_count": 26,
     "metadata": {},
     "output_type": "execute_result"
    }
   ],
   "source": [
    "oe.categories_"
   ]
  },
  {
   "cell_type": "markdown",
   "metadata": {},
   "source": [
    "### And now we do One hot encoding "
   ]
  },
  {
   "cell_type": "code",
   "execution_count": 27,
   "metadata": {},
   "outputs": [
    {
     "data": {
      "text/plain": [
       "array([[1., 0., 0.],\n",
       "       [0., 0., 1.],\n",
       "       [0., 1., 0.],\n",
       "       [1., 0., 0.],\n",
       "       [0., 1., 0.],\n",
       "       [0., 0., 1.],\n",
       "       [0., 1., 0.],\n",
       "       [0., 0., 1.],\n",
       "       [0., 0., 1.],\n",
       "       [0., 0., 1.],\n",
       "       [0., 0., 1.],\n",
       "       [0., 1., 0.],\n",
       "       [0., 1., 0.],\n",
       "       [0., 1., 0.],\n",
       "       [0., 1., 0.],\n",
       "       [1., 0., 0.],\n",
       "       [1., 0., 0.],\n",
       "       [0., 0., 1.],\n",
       "       [0., 0., 1.],\n",
       "       [1., 0., 0.],\n",
       "       [0., 1., 0.],\n",
       "       [1., 0., 0.],\n",
       "       [0., 0., 1.],\n",
       "       [1., 0., 0.],\n",
       "       [0., 1., 0.],\n",
       "       [0., 0., 1.],\n",
       "       [0., 0., 1.],\n",
       "       [1., 0., 0.],\n",
       "       [0., 0., 1.],\n",
       "       [1., 0., 0.],\n",
       "       [1., 0., 0.],\n",
       "       [0., 1., 0.],\n",
       "       [0., 1., 0.],\n",
       "       [1., 0., 0.],\n",
       "       [0., 0., 1.],\n",
       "       [0., 0., 1.],\n",
       "       [0., 1., 0.],\n",
       "       [0., 1., 0.],\n",
       "       [0., 0., 1.],\n",
       "       [0., 1., 0.],\n",
       "       [1., 0., 0.],\n",
       "       [0., 1., 0.],\n",
       "       [1., 0., 0.],\n",
       "       [0., 0., 1.],\n",
       "       [1., 0., 0.],\n",
       "       [1., 0., 0.],\n",
       "       [0., 0., 1.],\n",
       "       [1., 0., 0.],\n",
       "       [1., 0., 0.],\n",
       "       [1., 0., 0.],\n",
       "       [1., 0., 0.],\n",
       "       [0., 1., 0.],\n",
       "       [0., 0., 1.],\n",
       "       [0., 1., 0.],\n",
       "       [1., 0., 0.],\n",
       "       [0., 0., 1.],\n",
       "       [0., 1., 0.],\n",
       "       [0., 0., 1.],\n",
       "       [1., 0., 0.],\n",
       "       [0., 0., 1.],\n",
       "       [1., 0., 0.],\n",
       "       [0., 1., 0.],\n",
       "       [0., 0., 1.],\n",
       "       [1., 0., 0.],\n",
       "       [0., 1., 0.],\n",
       "       [0., 1., 0.],\n",
       "       [0., 0., 1.],\n",
       "       [0., 1., 0.],\n",
       "       [0., 1., 0.],\n",
       "       [0., 0., 1.],\n",
       "       [1., 0., 0.],\n",
       "       [1., 0., 0.],\n",
       "       [1., 0., 0.],\n",
       "       [0., 0., 1.],\n",
       "       [0., 1., 0.],\n",
       "       [0., 0., 1.],\n",
       "       [0., 1., 0.],\n",
       "       [0., 0., 1.],\n",
       "       [0., 0., 1.],\n",
       "       [0., 1., 0.],\n",
       "       [1., 0., 0.],\n",
       "       [0., 0., 1.],\n",
       "       [0., 1., 0.],\n",
       "       [1., 0., 0.],\n",
       "       [0., 0., 1.],\n",
       "       [1., 0., 0.],\n",
       "       [0., 0., 1.],\n",
       "       [0., 1., 0.],\n",
       "       [0., 1., 0.],\n",
       "       [1., 0., 0.],\n",
       "       [0., 1., 0.],\n",
       "       [0., 0., 1.],\n",
       "       [1., 0., 0.],\n",
       "       [1., 0., 0.],\n",
       "       [0., 0., 1.],\n",
       "       [0., 0., 1.],\n",
       "       [0., 0., 1.],\n",
       "       [0., 1., 0.],\n",
       "       [0., 0., 1.],\n",
       "       [1., 0., 0.],\n",
       "       [0., 0., 1.],\n",
       "       [0., 1., 0.],\n",
       "       [0., 0., 1.],\n",
       "       [0., 0., 1.],\n",
       "       [1., 0., 0.],\n",
       "       [0., 1., 0.],\n",
       "       [0., 1., 0.],\n",
       "       [0., 1., 0.],\n",
       "       [0., 1., 0.],\n",
       "       [0., 1., 0.],\n",
       "       [1., 0., 0.],\n",
       "       [0., 0., 1.],\n",
       "       [0., 1., 0.],\n",
       "       [0., 1., 0.],\n",
       "       [1., 0., 0.],\n",
       "       [1., 0., 0.],\n",
       "       [1., 0., 0.],\n",
       "       [1., 0., 0.],\n",
       "       [0., 1., 0.],\n",
       "       [1., 0., 0.]])"
      ]
     },
     "execution_count": 27,
     "metadata": {},
     "output_type": "execute_result"
    }
   ],
   "source": [
    "from sklearn.preprocessing import OneHotEncoder\n",
    "#Transform dataframe into digits (droping the text and concatenating the encoded column)\n",
    "ohe = OneHotEncoder()\n",
    "iris_labels_ohe = ohe.fit_transform(iris_labels).toarray()\n",
    "iris_labels_ohe"
   ]
  },
  {
   "cell_type": "code",
   "execution_count": 28,
   "metadata": {},
   "outputs": [
    {
     "data": {
      "text/plain": [
       "[array(['Iris-setosa', 'Iris-versicolor', 'Iris-virginica'], dtype=object)]"
      ]
     },
     "execution_count": 28,
     "metadata": {},
     "output_type": "execute_result"
    }
   ],
   "source": [
    "ohe.categories_"
   ]
  },
  {
   "cell_type": "markdown",
   "metadata": {},
   "source": [
    "### Estos son algunos posibles comandos utiles"
   ]
  },
  {
   "cell_type": "code",
   "execution_count": 29,
   "metadata": {},
   "outputs": [],
   "source": [
    "#iris_final = Iris.drop('Species',axis=1)\n",
    "#target_df = pd.DataFrame(Iris_cat_encoded)\n",
    "#Iris_df = pd.concat([Iris_df, target_df], axis= 1)\n",
    "#Iris_df.columns = ['Id','SepalLengthCm','SepalWidthCm','PetalLengthCm','PetalWidthCm','Species']\n",
    "#Iris_df\n",
    "\n",
    "#Iris_1hot=pd.DataFrame(Iris_cat_1hot.toarray())\n",
    "#Iris_prepared=pd.concat([Iris,Iris_1hot],axis=1)\n",
    "##Iris_prepared.drop('Species', axis=1,inplace=True)\n",
    "#Iris_prepared.columns=['Id','SepalLengthCm','SepalWidthCm','PetalLengthCm','PetalWidthCm','Species','isSetosa',\n",
    "#                       'isVersicolor','isVirginica']\n",
    "#iris_prepared = Iris_prepared.drop(labels = ['Id','Species'],axis=1)\n",
    "#iris_prepared"
   ]
  },
  {
   "cell_type": "markdown",
   "metadata": {},
   "source": [
    "### Transformation pipelines"
   ]
  },
  {
   "cell_type": "markdown",
   "metadata": {},
   "source": [
    "#### So now we can do a pipeline to transform our data"
   ]
  },
  {
   "cell_type": "markdown",
   "metadata": {},
   "source": [
    "##### First we choose only the numerical attributes, dropping the categorical and the useless (Id) attributes in the original dataset"
   ]
  },
  {
   "cell_type": "code",
   "execution_count": 30,
   "metadata": {},
   "outputs": [],
   "source": [
    "iris_num = iris_strat.drop(['Id'], axis = 1)"
   ]
  },
  {
   "cell_type": "code",
   "execution_count": 31,
   "metadata": {},
   "outputs": [
    {
     "data": {
      "text/html": [
       "<div>\n",
       "<style scoped>\n",
       "    .dataframe tbody tr th:only-of-type {\n",
       "        vertical-align: middle;\n",
       "    }\n",
       "\n",
       "    .dataframe tbody tr th {\n",
       "        vertical-align: top;\n",
       "    }\n",
       "\n",
       "    .dataframe thead th {\n",
       "        text-align: right;\n",
       "    }\n",
       "</style>\n",
       "<table border=\"1\" class=\"dataframe\">\n",
       "  <thead>\n",
       "    <tr style=\"text-align: right;\">\n",
       "      <th></th>\n",
       "      <th>SepalLengthCm</th>\n",
       "      <th>SepalWidthCm</th>\n",
       "      <th>PetalLengthCm</th>\n",
       "      <th>PetalWidthCm</th>\n",
       "    </tr>\n",
       "  </thead>\n",
       "  <tbody>\n",
       "    <tr>\n",
       "      <th>8</th>\n",
       "      <td>4.4</td>\n",
       "      <td>2.9</td>\n",
       "      <td>1.4</td>\n",
       "      <td>0.2</td>\n",
       "    </tr>\n",
       "    <tr>\n",
       "      <th>106</th>\n",
       "      <td>4.9</td>\n",
       "      <td>2.5</td>\n",
       "      <td>4.5</td>\n",
       "      <td>1.7</td>\n",
       "    </tr>\n",
       "    <tr>\n",
       "      <th>76</th>\n",
       "      <td>6.8</td>\n",
       "      <td>2.8</td>\n",
       "      <td>4.8</td>\n",
       "      <td>1.4</td>\n",
       "    </tr>\n",
       "    <tr>\n",
       "      <th>9</th>\n",
       "      <td>4.9</td>\n",
       "      <td>3.1</td>\n",
       "      <td>1.5</td>\n",
       "      <td>0.1</td>\n",
       "    </tr>\n",
       "    <tr>\n",
       "      <th>89</th>\n",
       "      <td>5.5</td>\n",
       "      <td>2.5</td>\n",
       "      <td>4.0</td>\n",
       "      <td>1.3</td>\n",
       "    </tr>\n",
       "    <tr>\n",
       "      <th>...</th>\n",
       "      <td>...</td>\n",
       "      <td>...</td>\n",
       "      <td>...</td>\n",
       "      <td>...</td>\n",
       "    </tr>\n",
       "    <tr>\n",
       "      <th>37</th>\n",
       "      <td>4.9</td>\n",
       "      <td>3.1</td>\n",
       "      <td>1.5</td>\n",
       "      <td>0.1</td>\n",
       "    </tr>\n",
       "    <tr>\n",
       "      <th>2</th>\n",
       "      <td>4.7</td>\n",
       "      <td>3.2</td>\n",
       "      <td>1.3</td>\n",
       "      <td>0.2</td>\n",
       "    </tr>\n",
       "    <tr>\n",
       "      <th>33</th>\n",
       "      <td>5.5</td>\n",
       "      <td>4.2</td>\n",
       "      <td>1.4</td>\n",
       "      <td>0.2</td>\n",
       "    </tr>\n",
       "    <tr>\n",
       "      <th>52</th>\n",
       "      <td>6.9</td>\n",
       "      <td>3.1</td>\n",
       "      <td>4.9</td>\n",
       "      <td>1.5</td>\n",
       "    </tr>\n",
       "    <tr>\n",
       "      <th>3</th>\n",
       "      <td>4.6</td>\n",
       "      <td>3.1</td>\n",
       "      <td>1.5</td>\n",
       "      <td>0.2</td>\n",
       "    </tr>\n",
       "  </tbody>\n",
       "</table>\n",
       "<p>120 rows × 4 columns</p>\n",
       "</div>"
      ],
      "text/plain": [
       "     SepalLengthCm  SepalWidthCm  PetalLengthCm  PetalWidthCm\n",
       "8              4.4           2.9            1.4           0.2\n",
       "106            4.9           2.5            4.5           1.7\n",
       "76             6.8           2.8            4.8           1.4\n",
       "9              4.9           3.1            1.5           0.1\n",
       "89             5.5           2.5            4.0           1.3\n",
       "..             ...           ...            ...           ...\n",
       "37             4.9           3.1            1.5           0.1\n",
       "2              4.7           3.2            1.3           0.2\n",
       "33             5.5           4.2            1.4           0.2\n",
       "52             6.9           3.1            4.9           1.5\n",
       "3              4.6           3.1            1.5           0.2\n",
       "\n",
       "[120 rows x 4 columns]"
      ]
     },
     "execution_count": 31,
     "metadata": {},
     "output_type": "execute_result"
    }
   ],
   "source": [
    "iris_num"
   ]
  },
  {
   "cell_type": "markdown",
   "metadata": {},
   "source": [
    "#### Categorical features are not into the test set, so pipeline is not fully necessary but we can ilustrate a little how would work in this dataframe"
   ]
  },
  {
   "cell_type": "markdown",
   "metadata": {},
   "source": [
    "#### We don't do transformations in the numerical attributes because it doesn't seems necessary but we'll use the SimpleImputer as an Identity transformer to ilustrate the use of pipelines"
   ]
  },
  {
   "cell_type": "code",
   "execution_count": 32,
   "metadata": {},
   "outputs": [],
   "source": [
    "from sklearn.pipeline import Pipeline\n",
    "from sklearn.impute import SimpleImputer \n",
    "num_pipeline = Pipeline([('imputer',SimpleImputer(strategy=\"median\"))])"
   ]
  },
  {
   "cell_type": "code",
   "execution_count": 33,
   "metadata": {},
   "outputs": [
    {
     "data": {
      "text/html": [
       "<div>\n",
       "<style scoped>\n",
       "    .dataframe tbody tr th:only-of-type {\n",
       "        vertical-align: middle;\n",
       "    }\n",
       "\n",
       "    .dataframe tbody tr th {\n",
       "        vertical-align: top;\n",
       "    }\n",
       "\n",
       "    .dataframe thead th {\n",
       "        text-align: right;\n",
       "    }\n",
       "</style>\n",
       "<table border=\"1\" class=\"dataframe\">\n",
       "  <thead>\n",
       "    <tr style=\"text-align: right;\">\n",
       "      <th></th>\n",
       "      <th>Id</th>\n",
       "      <th>SepalLengthCm</th>\n",
       "      <th>SepalWidthCm</th>\n",
       "      <th>PetalLengthCm</th>\n",
       "      <th>PetalWidthCm</th>\n",
       "    </tr>\n",
       "  </thead>\n",
       "  <tbody>\n",
       "    <tr>\n",
       "      <th>8</th>\n",
       "      <td>9</td>\n",
       "      <td>4.4</td>\n",
       "      <td>2.9</td>\n",
       "      <td>1.4</td>\n",
       "      <td>0.2</td>\n",
       "    </tr>\n",
       "    <tr>\n",
       "      <th>106</th>\n",
       "      <td>107</td>\n",
       "      <td>4.9</td>\n",
       "      <td>2.5</td>\n",
       "      <td>4.5</td>\n",
       "      <td>1.7</td>\n",
       "    </tr>\n",
       "    <tr>\n",
       "      <th>76</th>\n",
       "      <td>77</td>\n",
       "      <td>6.8</td>\n",
       "      <td>2.8</td>\n",
       "      <td>4.8</td>\n",
       "      <td>1.4</td>\n",
       "    </tr>\n",
       "    <tr>\n",
       "      <th>9</th>\n",
       "      <td>10</td>\n",
       "      <td>4.9</td>\n",
       "      <td>3.1</td>\n",
       "      <td>1.5</td>\n",
       "      <td>0.1</td>\n",
       "    </tr>\n",
       "    <tr>\n",
       "      <th>89</th>\n",
       "      <td>90</td>\n",
       "      <td>5.5</td>\n",
       "      <td>2.5</td>\n",
       "      <td>4.0</td>\n",
       "      <td>1.3</td>\n",
       "    </tr>\n",
       "    <tr>\n",
       "      <th>...</th>\n",
       "      <td>...</td>\n",
       "      <td>...</td>\n",
       "      <td>...</td>\n",
       "      <td>...</td>\n",
       "      <td>...</td>\n",
       "    </tr>\n",
       "    <tr>\n",
       "      <th>37</th>\n",
       "      <td>38</td>\n",
       "      <td>4.9</td>\n",
       "      <td>3.1</td>\n",
       "      <td>1.5</td>\n",
       "      <td>0.1</td>\n",
       "    </tr>\n",
       "    <tr>\n",
       "      <th>2</th>\n",
       "      <td>3</td>\n",
       "      <td>4.7</td>\n",
       "      <td>3.2</td>\n",
       "      <td>1.3</td>\n",
       "      <td>0.2</td>\n",
       "    </tr>\n",
       "    <tr>\n",
       "      <th>33</th>\n",
       "      <td>34</td>\n",
       "      <td>5.5</td>\n",
       "      <td>4.2</td>\n",
       "      <td>1.4</td>\n",
       "      <td>0.2</td>\n",
       "    </tr>\n",
       "    <tr>\n",
       "      <th>52</th>\n",
       "      <td>53</td>\n",
       "      <td>6.9</td>\n",
       "      <td>3.1</td>\n",
       "      <td>4.9</td>\n",
       "      <td>1.5</td>\n",
       "    </tr>\n",
       "    <tr>\n",
       "      <th>3</th>\n",
       "      <td>4</td>\n",
       "      <td>4.6</td>\n",
       "      <td>3.1</td>\n",
       "      <td>1.5</td>\n",
       "      <td>0.2</td>\n",
       "    </tr>\n",
       "  </tbody>\n",
       "</table>\n",
       "<p>120 rows × 5 columns</p>\n",
       "</div>"
      ],
      "text/plain": [
       "      Id  SepalLengthCm  SepalWidthCm  PetalLengthCm  PetalWidthCm\n",
       "8      9            4.4           2.9            1.4           0.2\n",
       "106  107            4.9           2.5            4.5           1.7\n",
       "76    77            6.8           2.8            4.8           1.4\n",
       "9     10            4.9           3.1            1.5           0.1\n",
       "89    90            5.5           2.5            4.0           1.3\n",
       "..   ...            ...           ...            ...           ...\n",
       "37    38            4.9           3.1            1.5           0.1\n",
       "2      3            4.7           3.2            1.3           0.2\n",
       "33    34            5.5           4.2            1.4           0.2\n",
       "52    53            6.9           3.1            4.9           1.5\n",
       "3      4            4.6           3.1            1.5           0.2\n",
       "\n",
       "[120 rows x 5 columns]"
      ]
     },
     "execution_count": 33,
     "metadata": {},
     "output_type": "execute_result"
    }
   ],
   "source": [
    "iris_strat"
   ]
  },
  {
   "cell_type": "code",
   "execution_count": 34,
   "metadata": {},
   "outputs": [],
   "source": [
    "#from sklearn.compose import ColumnTransformer\n",
    "#num_attribs = list(iris_num)\n",
    "#cat_attribs = [\"Species\"]\n",
    "#full_pipeline = ColumnTransformer([('num',num_pipeline,num_attribs),\n",
    "#                                                  ('cat',OrdinalEncoder(),cat_attribs),\n",
    "#                                                 ])\n",
    "full_pipeline = num_pipeline\n",
    "iris_prepared = full_pipeline.fit_transform(iris_strat)"
   ]
  },
  {
   "cell_type": "code",
   "execution_count": 35,
   "metadata": {},
   "outputs": [
    {
     "data": {
      "text/plain": [
       "array([[9.00e+00, 4.40e+00, 2.90e+00, 1.40e+00, 2.00e-01],\n",
       "       [1.07e+02, 4.90e+00, 2.50e+00, 4.50e+00, 1.70e+00],\n",
       "       [7.70e+01, 6.80e+00, 2.80e+00, 4.80e+00, 1.40e+00],\n",
       "       [1.00e+01, 4.90e+00, 3.10e+00, 1.50e+00, 1.00e-01],\n",
       "       [9.00e+01, 5.50e+00, 2.50e+00, 4.00e+00, 1.30e+00],\n",
       "       [1.47e+02, 6.30e+00, 2.50e+00, 5.00e+00, 1.90e+00],\n",
       "       [9.50e+01, 5.60e+00, 2.70e+00, 4.20e+00, 1.30e+00],\n",
       "       [1.34e+02, 6.30e+00, 2.80e+00, 5.10e+00, 1.50e+00],\n",
       "       [1.36e+02, 7.70e+00, 3.00e+00, 6.10e+00, 2.30e+00],\n",
       "       [1.18e+02, 7.70e+00, 3.80e+00, 6.70e+00, 2.20e+00],\n",
       "       [1.06e+02, 7.60e+00, 3.00e+00, 6.60e+00, 2.10e+00],\n",
       "       [7.90e+01, 6.00e+00, 2.90e+00, 4.50e+00, 1.50e+00],\n",
       "       [6.10e+01, 5.00e+00, 2.00e+00, 3.50e+00, 1.00e+00],\n",
       "       [6.80e+01, 5.80e+00, 2.70e+00, 4.10e+00, 1.00e+00],\n",
       "       [9.30e+01, 5.80e+00, 2.60e+00, 4.00e+00, 1.20e+00],\n",
       "       [3.00e+01, 4.70e+00, 3.20e+00, 1.60e+00, 2.00e-01],\n",
       "       [2.00e+01, 5.10e+00, 3.80e+00, 1.50e+00, 3.00e-01],\n",
       "       [1.09e+02, 6.70e+00, 2.50e+00, 5.80e+00, 1.80e+00],\n",
       "       [1.38e+02, 6.40e+00, 3.10e+00, 5.50e+00, 1.80e+00],\n",
       "       [3.20e+01, 5.40e+00, 3.40e+00, 1.50e+00, 4.00e-01],\n",
       "       [7.30e+01, 6.30e+00, 2.50e+00, 4.90e+00, 1.50e+00],\n",
       "       [4.70e+01, 5.10e+00, 3.80e+00, 1.60e+00, 2.00e-01],\n",
       "       [1.32e+02, 7.90e+00, 3.80e+00, 6.40e+00, 2.00e+00],\n",
       "       [2.60e+01, 5.00e+00, 3.00e+00, 1.60e+00, 2.00e-01],\n",
       "       [8.20e+01, 5.50e+00, 2.40e+00, 3.70e+00, 1.00e+00],\n",
       "       [1.04e+02, 6.30e+00, 2.90e+00, 5.60e+00, 1.80e+00],\n",
       "       [1.12e+02, 6.40e+00, 2.70e+00, 5.30e+00, 1.90e+00],\n",
       "       [2.70e+01, 5.00e+00, 3.40e+00, 1.60e+00, 4.00e-01],\n",
       "       [1.22e+02, 5.60e+00, 2.80e+00, 4.90e+00, 2.00e+00],\n",
       "       [4.10e+01, 5.00e+00, 3.50e+00, 1.30e+00, 3.00e-01],\n",
       "       [2.20e+01, 5.10e+00, 3.70e+00, 1.50e+00, 4.00e-01],\n",
       "       [7.20e+01, 6.10e+00, 2.80e+00, 4.00e+00, 1.30e+00],\n",
       "       [9.20e+01, 6.10e+00, 3.00e+00, 4.60e+00, 1.40e+00],\n",
       "       [1.60e+01, 5.70e+00, 4.40e+00, 1.50e+00, 4.00e-01],\n",
       "       [1.40e+02, 6.90e+00, 3.10e+00, 5.40e+00, 2.10e+00],\n",
       "       [1.49e+02, 6.20e+00, 3.40e+00, 5.40e+00, 2.30e+00],\n",
       "       [8.00e+01, 5.70e+00, 2.60e+00, 3.50e+00, 1.00e+00],\n",
       "       [6.00e+01, 5.20e+00, 2.70e+00, 3.90e+00, 1.40e+00],\n",
       "       [1.45e+02, 6.70e+00, 3.30e+00, 5.70e+00, 2.50e+00],\n",
       "       [7.10e+01, 5.90e+00, 3.20e+00, 4.80e+00, 1.80e+00],\n",
       "       [7.00e+00, 4.60e+00, 3.40e+00, 1.40e+00, 3.00e-01],\n",
       "       [5.10e+01, 7.00e+00, 3.20e+00, 4.70e+00, 1.40e+00],\n",
       "       [1.70e+01, 5.40e+00, 3.90e+00, 1.30e+00, 4.00e-01],\n",
       "       [1.31e+02, 7.40e+00, 2.80e+00, 6.10e+00, 1.90e+00],\n",
       "       [2.00e+00, 4.90e+00, 3.00e+00, 1.40e+00, 2.00e-01],\n",
       "       [1.80e+01, 5.10e+00, 3.50e+00, 1.40e+00, 3.00e-01],\n",
       "       [1.02e+02, 5.80e+00, 2.70e+00, 5.10e+00, 1.90e+00],\n",
       "       [3.60e+01, 5.00e+00, 3.20e+00, 1.20e+00, 2.00e-01],\n",
       "       [4.20e+01, 4.50e+00, 2.30e+00, 1.30e+00, 3.00e-01],\n",
       "       [1.30e+01, 4.80e+00, 3.00e+00, 1.40e+00, 1.00e-01],\n",
       "       [4.60e+01, 4.80e+00, 3.00e+00, 1.40e+00, 3.00e-01],\n",
       "       [6.50e+01, 5.60e+00, 2.90e+00, 3.60e+00, 1.30e+00],\n",
       "       [1.01e+02, 6.30e+00, 3.30e+00, 6.00e+00, 2.50e+00],\n",
       "       [5.60e+01, 5.70e+00, 2.80e+00, 4.50e+00, 1.30e+00],\n",
       "       [1.00e+00, 5.10e+00, 3.50e+00, 1.40e+00, 2.00e-01],\n",
       "       [1.50e+02, 5.90e+00, 3.00e+00, 5.10e+00, 1.80e+00],\n",
       "       [1.00e+02, 5.70e+00, 2.80e+00, 4.10e+00, 1.30e+00],\n",
       "       [1.37e+02, 6.30e+00, 3.40e+00, 5.60e+00, 2.40e+00],\n",
       "       [4.80e+01, 4.60e+00, 3.20e+00, 1.40e+00, 2.00e-01],\n",
       "       [1.43e+02, 5.80e+00, 2.70e+00, 5.10e+00, 1.90e+00],\n",
       "       [3.70e+01, 5.50e+00, 3.50e+00, 1.30e+00, 2.00e-01],\n",
       "       [5.40e+01, 5.50e+00, 2.30e+00, 4.00e+00, 1.30e+00],\n",
       "       [1.14e+02, 5.70e+00, 2.50e+00, 5.00e+00, 2.00e+00],\n",
       "       [2.50e+01, 4.80e+00, 3.40e+00, 1.90e+00, 2.00e-01],\n",
       "       [8.40e+01, 6.00e+00, 2.70e+00, 5.10e+00, 1.60e+00],\n",
       "       [9.10e+01, 5.50e+00, 2.60e+00, 4.40e+00, 1.20e+00],\n",
       "       [1.23e+02, 7.70e+00, 2.80e+00, 6.70e+00, 2.00e+00],\n",
       "       [6.70e+01, 5.60e+00, 3.00e+00, 4.50e+00, 1.50e+00],\n",
       "       [5.50e+01, 6.50e+00, 2.80e+00, 4.60e+00, 1.50e+00],\n",
       "       [1.16e+02, 6.40e+00, 3.20e+00, 5.30e+00, 2.30e+00],\n",
       "       [4.00e+01, 5.10e+00, 3.40e+00, 1.50e+00, 2.00e-01],\n",
       "       [2.40e+01, 5.10e+00, 3.30e+00, 1.70e+00, 5.00e-01],\n",
       "       [5.00e+00, 5.00e+00, 3.60e+00, 1.40e+00, 2.00e-01],\n",
       "       [1.20e+02, 6.00e+00, 2.20e+00, 5.00e+00, 1.50e+00],\n",
       "       [8.30e+01, 5.80e+00, 2.70e+00, 3.90e+00, 1.20e+00],\n",
       "       [1.30e+02, 7.20e+00, 3.00e+00, 5.80e+00, 1.60e+00],\n",
       "       [8.10e+01, 5.50e+00, 2.40e+00, 3.80e+00, 1.10e+00],\n",
       "       [1.46e+02, 6.70e+00, 3.00e+00, 5.20e+00, 2.30e+00],\n",
       "       [1.24e+02, 6.30e+00, 2.70e+00, 4.90e+00, 1.80e+00],\n",
       "       [8.60e+01, 6.00e+00, 3.40e+00, 4.50e+00, 1.60e+00],\n",
       "       [3.50e+01, 4.90e+00, 3.10e+00, 1.50e+00, 1.00e-01],\n",
       "       [1.15e+02, 5.80e+00, 2.80e+00, 5.10e+00, 2.40e+00],\n",
       "       [6.90e+01, 6.20e+00, 2.20e+00, 4.50e+00, 1.50e+00],\n",
       "       [4.40e+01, 5.00e+00, 3.50e+00, 1.60e+00, 6.00e-01],\n",
       "       [1.21e+02, 6.90e+00, 3.20e+00, 5.70e+00, 2.30e+00],\n",
       "       [3.30e+01, 5.20e+00, 4.10e+00, 1.50e+00, 1.00e-01],\n",
       "       [1.10e+02, 7.20e+00, 3.60e+00, 6.10e+00, 2.50e+00],\n",
       "       [9.90e+01, 5.10e+00, 2.50e+00, 3.00e+00, 1.10e+00],\n",
       "       [8.70e+01, 6.70e+00, 3.10e+00, 4.70e+00, 1.50e+00],\n",
       "       [3.10e+01, 4.80e+00, 3.10e+00, 1.60e+00, 2.00e-01],\n",
       "       [9.80e+01, 6.20e+00, 2.90e+00, 4.30e+00, 1.30e+00],\n",
       "       [1.11e+02, 6.50e+00, 3.20e+00, 5.10e+00, 2.00e+00],\n",
       "       [4.50e+01, 5.10e+00, 3.80e+00, 1.90e+00, 4.00e-01],\n",
       "       [1.40e+01, 4.30e+00, 3.00e+00, 1.10e+00, 1.00e-01],\n",
       "       [1.25e+02, 6.70e+00, 3.30e+00, 5.70e+00, 2.10e+00],\n",
       "       [1.19e+02, 7.70e+00, 2.60e+00, 6.90e+00, 2.30e+00],\n",
       "       [1.13e+02, 6.80e+00, 3.00e+00, 5.50e+00, 2.10e+00],\n",
       "       [8.80e+01, 6.30e+00, 2.30e+00, 4.40e+00, 1.30e+00],\n",
       "       [1.27e+02, 6.20e+00, 2.80e+00, 4.80e+00, 1.80e+00],\n",
       "       [6.00e+00, 5.40e+00, 3.90e+00, 1.70e+00, 4.00e-01],\n",
       "       [1.44e+02, 6.80e+00, 3.20e+00, 5.90e+00, 2.30e+00],\n",
       "       [9.70e+01, 5.70e+00, 2.90e+00, 4.20e+00, 1.30e+00],\n",
       "       [1.26e+02, 7.20e+00, 3.20e+00, 6.00e+00, 1.80e+00],\n",
       "       [1.03e+02, 7.10e+00, 3.00e+00, 5.90e+00, 2.10e+00],\n",
       "       [4.90e+01, 5.30e+00, 3.70e+00, 1.50e+00, 2.00e-01],\n",
       "       [7.50e+01, 6.40e+00, 2.90e+00, 4.30e+00, 1.30e+00],\n",
       "       [7.40e+01, 6.10e+00, 2.80e+00, 4.70e+00, 1.20e+00],\n",
       "       [9.60e+01, 5.70e+00, 3.00e+00, 4.20e+00, 1.20e+00],\n",
       "       [8.90e+01, 5.60e+00, 3.00e+00, 4.10e+00, 1.30e+00],\n",
       "       [6.60e+01, 6.70e+00, 3.10e+00, 4.40e+00, 1.40e+00],\n",
       "       [2.80e+01, 5.20e+00, 3.50e+00, 1.50e+00, 2.00e-01],\n",
       "       [1.29e+02, 6.40e+00, 2.80e+00, 5.60e+00, 2.10e+00],\n",
       "       [6.30e+01, 6.00e+00, 2.20e+00, 4.00e+00, 1.00e+00],\n",
       "       [6.20e+01, 5.90e+00, 3.00e+00, 4.20e+00, 1.50e+00],\n",
       "       [1.20e+01, 4.80e+00, 3.40e+00, 1.60e+00, 2.00e-01],\n",
       "       [3.80e+01, 4.90e+00, 3.10e+00, 1.50e+00, 1.00e-01],\n",
       "       [3.00e+00, 4.70e+00, 3.20e+00, 1.30e+00, 2.00e-01],\n",
       "       [3.40e+01, 5.50e+00, 4.20e+00, 1.40e+00, 2.00e-01],\n",
       "       [5.30e+01, 6.90e+00, 3.10e+00, 4.90e+00, 1.50e+00],\n",
       "       [4.00e+00, 4.60e+00, 3.10e+00, 1.50e+00, 2.00e-01]])"
      ]
     },
     "execution_count": 35,
     "metadata": {},
     "output_type": "execute_result"
    }
   ],
   "source": [
    "iris_prepared"
   ]
  },
  {
   "cell_type": "code",
   "execution_count": 36,
   "metadata": {},
   "outputs": [
    {
     "data": {
      "text/html": [
       "<div>\n",
       "<style scoped>\n",
       "    .dataframe tbody tr th:only-of-type {\n",
       "        vertical-align: middle;\n",
       "    }\n",
       "\n",
       "    .dataframe tbody tr th {\n",
       "        vertical-align: top;\n",
       "    }\n",
       "\n",
       "    .dataframe thead th {\n",
       "        text-align: right;\n",
       "    }\n",
       "</style>\n",
       "<table border=\"1\" class=\"dataframe\">\n",
       "  <thead>\n",
       "    <tr style=\"text-align: right;\">\n",
       "      <th></th>\n",
       "      <th>1</th>\n",
       "      <th>2</th>\n",
       "      <th>3</th>\n",
       "      <th>4</th>\n",
       "    </tr>\n",
       "  </thead>\n",
       "  <tbody>\n",
       "    <tr>\n",
       "      <th>0</th>\n",
       "      <td>4.4</td>\n",
       "      <td>2.9</td>\n",
       "      <td>1.4</td>\n",
       "      <td>0.2</td>\n",
       "    </tr>\n",
       "    <tr>\n",
       "      <th>1</th>\n",
       "      <td>4.9</td>\n",
       "      <td>2.5</td>\n",
       "      <td>4.5</td>\n",
       "      <td>1.7</td>\n",
       "    </tr>\n",
       "    <tr>\n",
       "      <th>2</th>\n",
       "      <td>6.8</td>\n",
       "      <td>2.8</td>\n",
       "      <td>4.8</td>\n",
       "      <td>1.4</td>\n",
       "    </tr>\n",
       "    <tr>\n",
       "      <th>3</th>\n",
       "      <td>4.9</td>\n",
       "      <td>3.1</td>\n",
       "      <td>1.5</td>\n",
       "      <td>0.1</td>\n",
       "    </tr>\n",
       "    <tr>\n",
       "      <th>4</th>\n",
       "      <td>5.5</td>\n",
       "      <td>2.5</td>\n",
       "      <td>4.0</td>\n",
       "      <td>1.3</td>\n",
       "    </tr>\n",
       "    <tr>\n",
       "      <th>...</th>\n",
       "      <td>...</td>\n",
       "      <td>...</td>\n",
       "      <td>...</td>\n",
       "      <td>...</td>\n",
       "    </tr>\n",
       "    <tr>\n",
       "      <th>115</th>\n",
       "      <td>4.9</td>\n",
       "      <td>3.1</td>\n",
       "      <td>1.5</td>\n",
       "      <td>0.1</td>\n",
       "    </tr>\n",
       "    <tr>\n",
       "      <th>116</th>\n",
       "      <td>4.7</td>\n",
       "      <td>3.2</td>\n",
       "      <td>1.3</td>\n",
       "      <td>0.2</td>\n",
       "    </tr>\n",
       "    <tr>\n",
       "      <th>117</th>\n",
       "      <td>5.5</td>\n",
       "      <td>4.2</td>\n",
       "      <td>1.4</td>\n",
       "      <td>0.2</td>\n",
       "    </tr>\n",
       "    <tr>\n",
       "      <th>118</th>\n",
       "      <td>6.9</td>\n",
       "      <td>3.1</td>\n",
       "      <td>4.9</td>\n",
       "      <td>1.5</td>\n",
       "    </tr>\n",
       "    <tr>\n",
       "      <th>119</th>\n",
       "      <td>4.6</td>\n",
       "      <td>3.1</td>\n",
       "      <td>1.5</td>\n",
       "      <td>0.2</td>\n",
       "    </tr>\n",
       "  </tbody>\n",
       "</table>\n",
       "<p>120 rows × 4 columns</p>\n",
       "</div>"
      ],
      "text/plain": [
       "       1    2    3    4\n",
       "0    4.4  2.9  1.4  0.2\n",
       "1    4.9  2.5  4.5  1.7\n",
       "2    6.8  2.8  4.8  1.4\n",
       "3    4.9  3.1  1.5  0.1\n",
       "4    5.5  2.5  4.0  1.3\n",
       "..   ...  ...  ...  ...\n",
       "115  4.9  3.1  1.5  0.1\n",
       "116  4.7  3.2  1.3  0.2\n",
       "117  5.5  4.2  1.4  0.2\n",
       "118  6.9  3.1  4.9  1.5\n",
       "119  4.6  3.1  1.5  0.2\n",
       "\n",
       "[120 rows x 4 columns]"
      ]
     },
     "execution_count": 36,
     "metadata": {},
     "output_type": "execute_result"
    }
   ],
   "source": [
    "pd.DataFrame(iris_prepared).drop(0,axis=1)"
   ]
  },
  {
   "cell_type": "markdown",
   "metadata": {},
   "source": [
    "##### Now we have ordinal encoded our data, we can choose an objective column "
   ]
  },
  {
   "cell_type": "code",
   "execution_count": 37,
   "metadata": {},
   "outputs": [],
   "source": [
    "#choosing objective column and removing Id column\n",
    "X_train= pd.DataFrame(iris_prepared).drop(0, axis= 1)\n",
    "y_train= pd.DataFrame(iris_labels_oe)"
   ]
  },
  {
   "cell_type": "code",
   "execution_count": 38,
   "metadata": {},
   "outputs": [],
   "source": [
    "from sklearn.model_selection import train_test_split"
   ]
  },
  {
   "cell_type": "markdown",
   "metadata": {},
   "source": [
    "## Then we separe into train and test data and train our model"
   ]
  },
  {
   "cell_type": "code",
   "execution_count": 39,
   "metadata": {},
   "outputs": [],
   "source": [
    "#X_train, X_test, y_train, y_test = train_test_split(X, y, test_size= 0.33, random_state= 101)"
   ]
  },
  {
   "cell_type": "markdown",
   "metadata": {},
   "source": [
    "+++++++++++++++++++++++++++++++++++++++++++++++++++++++++++++++++++++++++++++++++++++++++++++++++++++++++++++++++"
   ]
  },
  {
   "cell_type": "markdown",
   "metadata": {},
   "source": [
    "# Training and Evaluating on the training Set with cross validation"
   ]
  },
  {
   "cell_type": "code",
   "execution_count": 40,
   "metadata": {},
   "outputs": [],
   "source": [
    "from sklearn.linear_model import LinearRegression\n",
    "from sklearn.metrics import mean_squared_error, mean_absolute_error\n",
    "from sklearn.model_selection import cross_val_score\n",
    "lr=LinearRegression()\n",
    "scores_lr = cross_val_score(lr,X_train,y_train,scoring = \"neg_mean_squared_error\",cv=10)\n",
    "lr_rmse_scores = np.sqrt(-scores_lr)\n",
    "#lr.fit(X_train,y_train)\n",
    "#pred = lr.predict(X_test)\n",
    "#print('Mean Absolute Error:', mean_absolute_error(y_test, pred))\n",
    "#print('Mean Squared Error:', mean_squared_error(y_test, pred))\n",
    "#print('Mean Root Squared Error:', np.sqrt(mean_squared_error(y_test, pred)))\n",
    "#Ajustando el modelo sin hacer estratificacion"
   ]
  },
  {
   "cell_type": "code",
   "execution_count": 41,
   "metadata": {},
   "outputs": [],
   "source": [
    "def display_scores(scores):\n",
    "    print(\"Scores: \",scores)\n",
    "    print(\"Mean: \",scores.mean())\n",
    "    print(\"Standard deviation: \",scores.std())"
   ]
  },
  {
   "cell_type": "code",
   "execution_count": 42,
   "metadata": {},
   "outputs": [
    {
     "name": "stdout",
     "output_type": "stream",
     "text": [
      "Scores:  [0.27301682 0.18471447 0.1753704  0.23169486 0.17294979 0.26110016\n",
      " 0.29820854 0.17912819 0.19676079 0.16049335]\n",
      "Mean:  0.21334373686895147\n",
      "Standard deviation:  0.046381561984879326\n"
     ]
    }
   ],
   "source": [
    "display_scores(lr_rmse_scores)"
   ]
  },
  {
   "cell_type": "code",
   "execution_count": 43,
   "metadata": {},
   "outputs": [],
   "source": [
    "from sklearn.model_selection import KFold\n",
    "kf = KFold(shuffle=True, n_splits=5)"
   ]
  },
  {
   "cell_type": "code",
   "execution_count": 44,
   "metadata": {},
   "outputs": [],
   "source": [
    "from sklearn.tree import DecisionTreeRegressor\n",
    "tree_reg = DecisionTreeRegressor()\n",
    "scores_tree = cross_val_score(tree_reg,X_train,y_train,scoring=\"neg_mean_squared_error\",cv=kf)\n",
    "tree_rmse_scores = np.sqrt(-scores_tree)"
   ]
  },
  {
   "cell_type": "code",
   "execution_count": 45,
   "metadata": {},
   "outputs": [
    {
     "name": "stdout",
     "output_type": "stream",
     "text": [
      "Scores:  [0.20412415 0.20412415 0.         0.28867513 0.20412415]\n",
      "Mean:  0.18020951405812147\n",
      "Standard deviation:  0.09587073437500299\n"
     ]
    }
   ],
   "source": [
    "display_scores(tree_rmse_scores)"
   ]
  },
  {
   "cell_type": "code",
   "execution_count": 46,
   "metadata": {},
   "outputs": [],
   "source": [
    "from sklearn.ensemble import RandomForestRegressor\n",
    "forest_reg = RandomForestRegressor()\n",
    "scores_forest = cross_val_score(forest_reg,X_train,y_train.values.ravel(),scoring=\"neg_mean_squared_error\",cv=kf)\n",
    "forest_rmse_scores = np.sqrt(-scores_forest)"
   ]
  },
  {
   "cell_type": "code",
   "execution_count": 47,
   "metadata": {},
   "outputs": [
    {
     "name": "stdout",
     "output_type": "stream",
     "text": [
      "Scores:  [0.17174351 0.1883149  0.26100766 0.00353553 0.09073772]\n",
      "Mean:  0.14306786400987132\n",
      "Standard deviation:  0.08830299893540594\n"
     ]
    }
   ],
   "source": [
    "display_scores(forest_rmse_scores)"
   ]
  },
  {
   "cell_type": "code",
   "execution_count": 48,
   "metadata": {},
   "outputs": [],
   "source": [
    "from sklearn.svm import SVR\n",
    "svr_reg = SVR()\n",
    "scores_svr = cross_val_score(svr_reg, X_train, y_train.values.ravel(),scoring=\"neg_mean_squared_error\",cv=10)\n",
    "svr_rmse_scores = np.sqrt(-scores_svr)"
   ]
  },
  {
   "cell_type": "code",
   "execution_count": 49,
   "metadata": {},
   "outputs": [
    {
     "name": "stdout",
     "output_type": "stream",
     "text": [
      "Scores:  [0.24147631 0.18200791 0.14754513 0.21062857 0.1676747  0.26062508\n",
      " 0.22534898 0.17848446 0.1617808  0.12337422]\n",
      "Mean:  0.18989461683546255\n",
      "Standard deviation:  0.04128598107151404\n"
     ]
    }
   ],
   "source": [
    "display_scores(svr_rmse_scores)"
   ]
  },
  {
   "cell_type": "markdown",
   "metadata": {},
   "source": [
    "#### So in our naive supossition we see that linear regression seems like a promising model and the svr seems ok althoug worse than lr"
   ]
  },
  {
   "cell_type": "markdown",
   "metadata": {},
   "source": [
    "# Fine tune youre model"
   ]
  },
  {
   "cell_type": "code",
   "execution_count": 50,
   "metadata": {},
   "outputs": [
    {
     "data": {
      "text/plain": [
       "GridSearchCV(cv=10, estimator=LinearRegression(),\n",
       "             param_grid=[{'fit_intercept': [True, False]}],\n",
       "             return_train_score=True, scoring='neg_mean_squared_error')"
      ]
     },
     "execution_count": 50,
     "metadata": {},
     "output_type": "execute_result"
    }
   ],
   "source": [
    "from sklearn.model_selection import GridSearchCV\n",
    "param_grid = [\n",
    "    {'fit_intercept': [True,False]},\n",
    "]\n",
    "\n",
    "grid_search_lr = GridSearchCV(lr,param_grid,cv=10,scoring=\"neg_mean_squared_error\",return_train_score=True)\n",
    "grid_search_lr.fit(X_train,y_train.values.ravel())"
   ]
  },
  {
   "cell_type": "code",
   "execution_count": 51,
   "metadata": {},
   "outputs": [
    {
     "data": {
      "text/plain": [
       "{'fit_intercept': False}"
      ]
     },
     "execution_count": 51,
     "metadata": {},
     "output_type": "execute_result"
    }
   ],
   "source": [
    "grid_search_lr.best_params_"
   ]
  },
  {
   "cell_type": "code",
   "execution_count": 52,
   "metadata": {},
   "outputs": [
    {
     "data": {
      "text/plain": [
       "GridSearchCV(cv=5, estimator=SVR(),\n",
       "             param_grid={'C': [1, 5, 10], 'gamma': ('auto', 'scale'),\n",
       "                         'kernel': ('linear', 'rbf')},\n",
       "             return_train_score=True, scoring='neg_mean_squared_error')"
      ]
     },
     "execution_count": 52,
     "metadata": {},
     "output_type": "execute_result"
    }
   ],
   "source": [
    "param_grid_svr = {'kernel':('linear','rbf'), 'C':[1,5,10], 'gamma':('auto','scale') }\n",
    "grid_search_svr = GridSearchCV(svr_reg, param_grid_svr, cv=5, scoring='neg_mean_squared_error',\n",
    "                               return_train_score=True)\n",
    "grid_search_svr.fit(X_train, y_train.values.ravel())"
   ]
  },
  {
   "cell_type": "code",
   "execution_count": 53,
   "metadata": {},
   "outputs": [
    {
     "data": {
      "text/plain": [
       "{'C': 1, 'gamma': 'auto', 'kernel': 'rbf'}"
      ]
     },
     "execution_count": 53,
     "metadata": {},
     "output_type": "execute_result"
    }
   ],
   "source": [
    "grid_search_svr.best_params_"
   ]
  },
  {
   "cell_type": "markdown",
   "metadata": {},
   "source": [
    "### We can also check correlation matrix"
   ]
  },
  {
   "cell_type": "code",
   "execution_count": 54,
   "metadata": {},
   "outputs": [
    {
     "data": {
      "text/plain": [
       "SepalLengthCm    0.792204\n",
       "SepalWidthCm    -0.388647\n",
       "PetalLengthCm    0.951013\n",
       "PetalWidthCm     0.959387\n",
       "Species          1.000000\n",
       "Name: Species, dtype: float64"
      ]
     },
     "execution_count": 54,
     "metadata": {},
     "output_type": "execute_result"
    }
   ],
   "source": [
    "corr =pd.concat([X_train,y_train],join=\"inner\",axis=1) \n",
    "corr.columns = ['SepalLengthCm','SepalWidthCm','PetalLengthCm','PetalWidthCm','Species']\n",
    "corr_matrix = corr.corr()\n",
    "corr_matrix[\"Species\"]"
   ]
  },
  {
   "cell_type": "code",
   "execution_count": 64,
   "metadata": {},
   "outputs": [],
   "source": [
    "final_model_lr = grid_search_lr.best_estimator_"
   ]
  },
  {
   "cell_type": "code",
   "execution_count": 74,
   "metadata": {},
   "outputs": [],
   "source": [
    "strat_test_set\n",
    "X_test = strat_test_set.drop(labels=[\"Id\",\"Species\"],axis=1)\n",
    "y_test = strat_test_set[[\"Species\"]].copy()\n",
    "X_test_prepared = pd.DataFrame(full_pipeline.fit_transform(X_test))\n",
    "y_test_oe = oe.fit_transform(y_test)"
   ]
  },
  {
   "cell_type": "code",
   "execution_count": 75,
   "metadata": {},
   "outputs": [],
   "source": [
    "final_predictions = final_model_lr.predict(X_test_prepared)\n",
    "\n",
    "final_mse = mean_squared_error(y_test_oe,final_predictions)\n",
    "final_rmse = np.sqrt(final_mse)"
   ]
  },
  {
   "cell_type": "code",
   "execution_count": 80,
   "metadata": {},
   "outputs": [
    {
     "data": {
      "text/plain": [
       "array([[0.],\n",
       "       [2.],\n",
       "       [1.],\n",
       "       [1.],\n",
       "       [0.],\n",
       "       [1.],\n",
       "       [0.],\n",
       "       [0.],\n",
       "       [2.],\n",
       "       [1.],\n",
       "       [2.],\n",
       "       [2.],\n",
       "       [2.],\n",
       "       [1.],\n",
       "       [0.],\n",
       "       [0.],\n",
       "       [0.],\n",
       "       [1.],\n",
       "       [1.],\n",
       "       [2.],\n",
       "       [0.],\n",
       "       [2.],\n",
       "       [1.],\n",
       "       [2.],\n",
       "       [2.],\n",
       "       [1.],\n",
       "       [1.],\n",
       "       [0.],\n",
       "       [2.],\n",
       "       [0.]])"
      ]
     },
     "execution_count": 80,
     "metadata": {},
     "output_type": "execute_result"
    }
   ],
   "source": [
    "y_test_oe"
   ]
  },
  {
   "cell_type": "code",
   "execution_count": 76,
   "metadata": {},
   "outputs": [
    {
     "data": {
      "text/plain": [
       "array([-0.03854419,  1.58942176,  0.86656724,  0.86318242, -0.04633478,\n",
       "        1.39705493, -0.13989058, -0.04237409,  1.7475601 ,  1.37006344,\n",
       "        1.80188933,  1.87917287,  1.99823328,  1.28947164, -0.05552985,\n",
       "       -0.07277268, -0.20055697,  1.00046206,  1.30335192,  1.57556376,\n",
       "       -0.09633623,  2.06134595,  1.18389097,  1.50528091,  1.97102775,\n",
       "        1.50495694,  1.19964165, -0.01787342,  1.68713001, -0.09122822])"
      ]
     },
     "execution_count": 76,
     "metadata": {},
     "output_type": "execute_result"
    }
   ],
   "source": [
    "final_predictions"
   ]
  },
  {
   "cell_type": "code",
   "execution_count": 77,
   "metadata": {},
   "outputs": [
    {
     "data": {
      "text/plain": [
       "0.2408768898032029"
      ]
     },
     "execution_count": 77,
     "metadata": {},
     "output_type": "execute_result"
    }
   ],
   "source": [
    "final_rmse #final prediction"
   ]
  },
  {
   "cell_type": "code",
   "execution_count": 79,
   "metadata": {},
   "outputs": [
    {
     "data": {
      "text/plain": [
       "array([[0.79417126, 0.94455422, 1.04975768, 1.04933371, 0.79123419,\n",
       "        0.99738207, 0.75495378, 0.79272893, 0.89567125, 1.00406384,\n",
       "        0.87786964, 0.85166183, 0.80917277, 1.02258667, 0.78775155,\n",
       "        0.78117325, 0.73036019, 1.05839093, 1.01956701, 0.94862186,\n",
       "        0.77208123, 0.78553963, 1.04256988, 0.96866761, 0.81911638,\n",
       "        0.96875765, 1.03997485, 0.80190436, 0.91487264, 0.77406234],\n",
       "       [1.40276308, 1.30624254, 1.22329925, 1.22366295, 1.40442184,\n",
       "        1.26636538, 1.42425315, 1.40357867, 1.34023329, 1.26107417,\n",
       "        1.35196048, 1.36862134, 1.39416344, 1.24610142, 1.40637823,\n",
       "        1.41004277, 1.43701992, 1.21583753, 1.24857333, 1.30329153,\n",
       "        1.41504163, 1.40761491, 1.22943088, 1.28846238, 1.38834456,\n",
       "        1.28839469, 1.23162679, 1.39835677, 1.32720017, 1.41395889]])"
      ]
     },
     "execution_count": 79,
     "metadata": {},
     "output_type": "execute_result"
    }
   ],
   "source": [
    "from scipy import stats\n",
    "confidence = 0.95\n",
    "squared_errors = (final_predictions - y_test_oe)**2\n",
    "np.sqrt(stats.t.interval(confidence,len(squared_errors)-1,\n",
    "                        loc=squared_errors.mean(),\n",
    "                        scale=stats.sem(squared_errors)))"
   ]
  },
  {
   "cell_type": "code",
   "execution_count": 56,
   "metadata": {},
   "outputs": [],
   "source": [
    "#feature_importances = grid_search_lr.best_estimator_.feature_importances\n",
    "#feature_importances"
   ]
  },
  {
   "cell_type": "code",
   "execution_count": 38,
   "metadata": {},
   "outputs": [],
   "source": [
    "#train_set, test_set = split_train_test_by_id(Iris_prepared, 0.2, \"Id\") #split data by id"
   ]
  },
  {
   "cell_type": "code",
   "execution_count": 39,
   "metadata": {},
   "outputs": [],
   "source": [
    "#we could also use the sklearn function\n",
    "#train_set, test_set = train_test_split(Iris_prepared, test_size=0.2, random_state=42)"
   ]
  },
  {
   "cell_type": "code",
   "execution_count": 164,
   "metadata": {},
   "outputs": [],
   "source": [
    "#import sqlite3\n",
    "#conn = sqlite3.connect('test_set_database')\n",
    "#c = conn.cursor()\n",
    "#c.execute('''CREATE TABLE IF NOT EXISTS test_set\n",
    "#            ([Id] INTEGER PRIMARY KEY, [SepalLengthCm] FLOAT, [SepalWidthCm] FLOAT, [PetalLengthCm] FLOAT,\n",
    "#            [PetalWidthCm] FLOAT, [Species] TEXT)''')\n",
    "#conn.commit()"
   ]
  },
  {
   "cell_type": "code",
   "execution_count": 166,
   "metadata": {},
   "outputs": [],
   "source": [
    "#train_set.to_sql('test_set',conn,if_exists='replace',index=False)"
   ]
  },
  {
   "cell_type": "code",
   "execution_count": 167,
   "metadata": {},
   "outputs": [],
   "source": [
    "#c.execute('''select (select count(Species) from test_set where Species='Iris-setosa')*1.0/count(*) from test_set ''')\n",
    "#print(c.fetchone()) #puede que haya borrado la columna de species jsjsjs"
   ]
  },
  {
   "cell_type": "code",
   "execution_count": 168,
   "metadata": {},
   "outputs": [],
   "source": [
    "#iris_prepared.plot(kind=\"scatter\",x=\"isSetosa\",y=\"SepalWidthCm\")#¿Este tipo de gráfica me sirve?"
   ]
  },
  {
   "cell_type": "code",
   "execution_count": 81,
   "metadata": {},
   "outputs": [],
   "source": [
    "#from pandas.plotting import scatter_matrix\n",
    "#attributes = [\"SepalWidthCm\",\"PetalLengthCm\",\"PetalWidthCm\",\"isSetosa\"]\n",
    "#scatter_matrix(iris_prepared[attributes],figsize=(12,8)) #parece tampoco servir mucho aqui"
   ]
  },
  {
   "cell_type": "code",
   "execution_count": 82,
   "metadata": {},
   "outputs": [],
   "source": [
    "#preparation_and_feature_selection_pipeline = Pipeline([('preparation',preparation_pipeline),\n",
    "#                                                       ('feature_selection',TopFeatureSelection(feature_importances,k))])"
   ]
  },
  {
   "cell_type": "code",
   "execution_count": null,
   "metadata": {},
   "outputs": [],
   "source": []
  }
 ],
 "metadata": {
  "kernelspec": {
   "display_name": "Python 3",
   "language": "python",
   "name": "python3"
  },
  "language_info": {
   "codemirror_mode": {
    "name": "ipython",
    "version": 3
   },
   "file_extension": ".py",
   "mimetype": "text/x-python",
   "name": "python",
   "nbconvert_exporter": "python",
   "pygments_lexer": "ipython3",
   "version": "3.8.3"
  }
 },
 "nbformat": 4,
 "nbformat_minor": 4
}
